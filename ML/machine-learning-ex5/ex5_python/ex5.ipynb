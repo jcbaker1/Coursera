{
 "cells": [
  {
   "cell_type": "markdown",
   "metadata": {},
   "source": [
    "# Programming Exercise 5:\n",
    "## Regularized Linear Regression and Bias vs. Variance"
   ]
  },
  {
   "cell_type": "markdown",
   "metadata": {},
   "source": [
    "### 1. Regularized Linear Regression"
   ]
  },
  {
   "cell_type": "markdown",
   "metadata": {},
   "source": [
    "#### 1.1 Visualizing the dataset"
   ]
  },
  {
   "cell_type": "code",
   "execution_count": 14,
   "metadata": {},
   "outputs": [],
   "source": [
    "import numpy as np\n",
    "import pandas as pd\n",
    "from scipy.io import loadmat\n",
    "import matplotlib.pyplot as plt\n",
    "\n",
    "% matplotlib inline"
   ]
  },
  {
   "cell_type": "code",
   "execution_count": 79,
   "metadata": {},
   "outputs": [],
   "source": [
    "data = loadmat('ex5/ex5data1.mat')"
   ]
  },
  {
   "cell_type": "code",
   "execution_count": 115,
   "metadata": {},
   "outputs": [],
   "source": [
    "m = data['X'].shape[0]\n",
    "m_test = data['Xtest'].shape[0]\n",
    "m_val = data['Xval'].shape[0]"
   ]
  },
  {
   "cell_type": "code",
   "execution_count": 116,
   "metadata": {},
   "outputs": [],
   "source": [
    "X = data['X'].reshape([m,])\n",
    "y = data['y'].reshape([m,])\n",
    "\n",
    "X_test = data['Xtest'].reshape([m_test,])\n",
    "y_test = data['ytest'].reshape([m_test,])\n",
    "\n",
    "X_val = data['Xval'].reshape([m_val,])\n",
    "y_val = data['yval'].reshape([m_val,])"
   ]
  },
  {
   "cell_type": "code",
   "execution_count": 117,
   "metadata": {},
   "outputs": [],
   "source": [
    "# Add intercepts:\n",
    "X = np.column_stack([np.ones(m), X])\n",
    "X_test = np.column_stack([np.ones(m_test), X_test])\n",
    "X_val = np.column_stack([np.ones(m_val), X_val])\n"
   ]
  },
  {
   "cell_type": "code",
   "execution_count": 118,
   "metadata": {},
   "outputs": [
    {
     "data": {
      "image/png": "[encoded data removed]",
      "text/plain": [
       "<Figure size 432x288 with 1 Axes>"
      ]
     },
     "metadata": {},
     "output_type": "display_data"
    }
   ],
   "source": [
    "plt.plot(data['X'], data['y'], 'o');\n",
    "plt.xlabel('Change in water level (x)'); plt.ylabel('Water flowing out of the dam (y)');"
   ]
  },
  {
   "cell_type": "markdown",
   "metadata": {},
   "source": [
    "#### 1.2 Regularized linear regression cost function"
   ]
  },
  {
   "cell_type": "code",
   "execution_count": 320,
   "metadata": {},
   "outputs": [],
   "source": [
    "def linearRegCostFunction(theta, X, y, Lambda):\n",
    "    \"\"\" \n",
    "        LINEARREGCOSTFUNCTION Compute cost and gradient for regularized linear \n",
    "        regression with multiple variables\n",
    "        [J, grad] = LINEARREGCOSTFUNCTION(X, y, theta, Lambda) computes the \n",
    "        cost of using theta as the parameter for linear regression to fit the \n",
    "        data points in X and y. Returns the cost in J and the gradient in grad\n",
    "    \"\"\"\n",
    "    \n",
    "    # Initialize some useful values\n",
    "    m = len(y); # number of training examples\n",
    "\n",
    "    # You need to return the following variables correctly \n",
    "    y_hat = X.dot(theta)\n",
    "    \n",
    "    J = np.sum((y_hat - y)**2)/(2*m) + Lambda * np.sum(theta[1:] ** 2) / (2*m)\n",
    "\n",
    "    return J"
   ]
  },
  {
   "cell_type": "code",
   "execution_count": 249,
   "metadata": {},
   "outputs": [],
   "source": [
    "theta = np.array([1, 1])"
   ]
  },
  {
   "cell_type": "code",
   "execution_count": 321,
   "metadata": {},
   "outputs": [
    {
     "name": "stdout",
     "output_type": "stream",
     "text": [
      "Cost at theta = [1 , 1]: 303.9931922202643 \n",
      "(this value should be about 303.993192)\n",
      "\n"
     ]
    }
   ],
   "source": [
    "J = linearRegCostFunction(theta, X, y, 1)\n",
    "\n",
    "print('Cost at theta = [1 , 1]: {} \\n(this value should be about 303.993192)\\n'.format(J));"
   ]
  },
  {
   "cell_type": "code",
   "execution_count": 322,
   "metadata": {},
   "outputs": [],
   "source": [
    "def linearRegGrad(theta, X, y, Lambda):\n",
    "    \"\"\" \n",
    "        LINEARREGCOSTFUNCTION Compute cost and gradient for regularized linear \n",
    "        regression with multiple variables\n",
    "        [J, grad] = LINEARREGCOSTFUNCTION(X, y, theta, Lambda) computes the \n",
    "        cost of using theta as the parameter for linear regression to fit the \n",
    "        data points in X and y. Returns the cost in J and the gradient in grad\n",
    "    \"\"\"\n",
    "    \n",
    "    # Initialize some useful values\n",
    "    m = len(y) # number of training examples\n",
    "    n = len(theta)\n",
    "    \n",
    "    mask = np.ones(n)\n",
    "    mask[0] = 0\n",
    "    \n",
    "    # You need to return the following variables correctly \n",
    "    y_hat = X.dot(theta)\n",
    "    \n",
    "    grad = (y_hat - y).dot(X) / m\n",
    "    reg = Lambda * theta * mask / m\n",
    "    \n",
    "    grad = grad + reg\n",
    "    \n",
    "    return grad\n"
   ]
  },
  {
   "cell_type": "code",
   "execution_count": 323,
   "metadata": {},
   "outputs": [],
   "source": [
    "grad = linearRegGrad(theta, X, y, 1)"
   ]
  },
  {
   "cell_type": "code",
   "execution_count": 306,
   "metadata": {},
   "outputs": [
    {
     "name": "stdout",
     "output_type": "stream",
     "text": [
      "Gradient at theta = [1 ; 1]:  [-15.303015674201186; 598.2507441727037]\n",
      "(this value should be about [-15.303016; 598.250744])\n",
      "\n"
     ]
    }
   ],
   "source": [
    "print('Gradient at theta = [1 ; 1]:  [{0}; {1}]\\n(this value should be about [-15.303016; 598.250744])\\n'.format(grad[0], grad[1]));"
   ]
  },
  {
   "cell_type": "markdown",
   "metadata": {},
   "source": [
    "#### 1.4 Fitting Linear Regression"
   ]
  },
  {
   "cell_type": "markdown",
   "metadata": {},
   "source": [
    "Once you have implemented the cost and gradient correctly, the trainLinearReg function will use your cost function to train regularized linear regression.\n",
    "\n",
    "Write Up Note: The data is non-linear, so this will not give a great fit."
   ]
  },
  {
   "cell_type": "code",
   "execution_count": 324,
   "metadata": {},
   "outputs": [],
   "source": [
    "from scipy.optimize import fmin, fmin_cg, fmin_bfgs"
   ]
  },
  {
   "cell_type": "code",
   "execution_count": 531,
   "metadata": {},
   "outputs": [],
   "source": [
    "def trainLinearReg(X, y, Lambda):\n",
    "    \n",
    "    m, n = X.shape\n",
    "    theta = np.zeros(n); \n",
    "    \n",
    "    theta_opt = fmin_cg(linearRegCostFunction, x0=theta, args=(X, y, Lambda));\n",
    "    #theta_opt = fmin_bfgs(linearRegCostFunction, x0=theta, args=(X, y, Lambda), fprime=linearRegGrad);\n",
    "    #theta_opt = fmin(linearRegCostFunction, x0=theta, args=(X, y, Lambda));\n",
    "\n",
    "    \n",
    "    return theta_opt"
   ]
  },
  {
   "cell_type": "code",
   "execution_count": 532,
   "metadata": {},
   "outputs": [
    {
     "name": "stdout",
     "output_type": "stream",
     "text": [
      "Optimization terminated successfully.\n",
      "         Current function value: 22.373906\n",
      "         Iterations: 3\n",
      "         Function evaluations: 28\n",
      "         Gradient evaluations: 7\n"
     ]
    }
   ],
   "source": [
    "# Train linear regression with lambda = 0\n",
    "Lambda = 0;\n",
    "theta_opt = trainLinearReg(X, y, Lambda)"
   ]
  },
  {
   "cell_type": "code",
   "execution_count": 535,
   "metadata": {},
   "outputs": [
    {
     "data": {
      "text/plain": [
       "array([ 13.08790568,   0.36777923])"
      ]
     },
     "execution_count": 535,
     "metadata": {},
     "output_type": "execute_result"
    }
   ],
   "source": [
    "theta_opt"
   ]
  },
  {
   "cell_type": "code",
   "execution_count": 534,
   "metadata": {},
   "outputs": [
    {
     "data": {
      "image/png": "[encoded data removed]",
      "text/plain": [
       "<Figure size 432x288 with 1 Axes>"
      ]
     },
     "metadata": {},
     "output_type": "display_data"
    }
   ],
   "source": [
    "#  Plot fit over the data\n",
    "plt.plot(X[:, 1], y, 'rx', markersize=6, lw=1.5);\n",
    "plt.xlabel('Change in water level (x)');\n",
    "plt.ylabel('Water flowing out of the dam (y)');\n",
    "\n",
    "plt.plot(X[:, 1], X.dot(theta_opt), '-', lw=1);\n",
    "\n"
   ]
  },
  {
   "cell_type": "code",
   "execution_count": null,
   "metadata": {},
   "outputs": [],
   "source": []
  },
  {
   "cell_type": "markdown",
   "metadata": {},
   "source": [
    "### 2 Bias-variance"
   ]
  },
  {
   "cell_type": "markdown",
   "metadata": {},
   "source": [
    "#### 2.1 Learning curves"
   ]
  },
  {
   "cell_type": "code",
   "execution_count": 536,
   "metadata": {},
   "outputs": [],
   "source": [
    "def learningCurve(X, y, Xval, yval, Lambda):\n",
    "    \"\"\"\n",
    "        LEARNINGCURVE Generates the train and cross validation set errors needed \n",
    "        to plot a learning curve\n",
    "           [error_train, error_val] = ...\n",
    "               LEARNINGCURVE(X, y, Xval, yval, lambda) returns the train and\n",
    "               cross validation set errors for a learning curve. In particular, \n",
    "               it returns two vectors of the same length - error_train and \n",
    "               error_val. Then, error_train(i) contains the training error for\n",
    "               i examples (and similarly for error_val(i)).\n",
    "        \n",
    "           In this function, you will compute the train and test errors for\n",
    "           dataset sizes from 1 up to m. In practice, when working with larger\n",
    "           datasets, you might want to do this in larger intervals. \n",
    "    \"\"\"\n",
    "\n",
    "    # Number of training examples\n",
    "    m, n = X.shape;\n",
    "    error_train = []\n",
    "    error_val = []\n",
    "    \n",
    "    for i in range(m):\n",
    "        theta_opt = trainLinearReg(X[0:i+1], y[0:i+1], Lambda)\n",
    "    \n",
    "        error_train.append(linearRegCostFunction(theta_opt, X[0:i+1], y[0:i+1], 0))\n",
    "        error_val.append(linearRegCostFunction(theta_opt, Xval, yval, 0))\n",
    "    \n",
    "    return error_train, error_val\n",
    "    "
   ]
  },
  {
   "cell_type": "code",
   "execution_count": 537,
   "metadata": {},
   "outputs": [
    {
     "name": "stdout",
     "output_type": "stream",
     "text": [
      "Optimization terminated successfully.\n",
      "         Current function value: 0.000000\n",
      "         Iterations: 2\n",
      "         Function evaluations: 32\n",
      "         Gradient evaluations: 8\n",
      "Optimization terminated successfully.\n",
      "         Current function value: 0.001307\n",
      "         Iterations: 2\n",
      "         Function evaluations: 24\n",
      "         Gradient evaluations: 6\n",
      "Optimization terminated successfully.\n",
      "         Current function value: 3.335017\n",
      "         Iterations: 10\n",
      "         Function evaluations: 64\n",
      "         Gradient evaluations: 16\n",
      "Warning: Desired error not necessarily achieved due to precision loss.\n",
      "         Current function value: 2.881851\n",
      "         Iterations: 8\n",
      "         Function evaluations: 64\n",
      "         Gradient evaluations: 13\n",
      "Optimization terminated successfully.\n",
      "         Current function value: 13.174273\n",
      "         Iterations: 17\n",
      "         Function evaluations: 112\n",
      "         Gradient evaluations: 28\n",
      "Optimization terminated successfully.\n",
      "         Current function value: 19.461396\n",
      "         Iterations: 17\n",
      "         Function evaluations: 120\n",
      "         Gradient evaluations: 30\n",
      "Optimization terminated successfully.\n",
      "         Current function value: 20.112149\n",
      "         Iterations: 17\n",
      "         Function evaluations: 116\n",
      "         Gradient evaluations: 29\n",
      "Optimization terminated successfully.\n",
      "         Current function value: 18.184047\n",
      "         Iterations: 3\n",
      "         Function evaluations: 28\n",
      "         Gradient evaluations: 7\n",
      "Optimization terminated successfully.\n",
      "         Current function value: 22.618880\n",
      "         Iterations: 3\n",
      "         Function evaluations: 28\n",
      "         Gradient evaluations: 7\n",
      "Optimization terminated successfully.\n",
      "         Current function value: 23.268598\n",
      "         Iterations: 3\n",
      "         Function evaluations: 28\n",
      "         Gradient evaluations: 7\n",
      "Optimization terminated successfully.\n",
      "         Current function value: 24.323253\n",
      "         Iterations: 3\n",
      "         Function evaluations: 28\n",
      "         Gradient evaluations: 7\n",
      "Optimization terminated successfully.\n",
      "         Current function value: 22.379542\n",
      "         Iterations: 3\n",
      "         Function evaluations: 28\n",
      "         Gradient evaluations: 7\n"
     ]
    }
   ],
   "source": [
    "error_train, error_val = learningCurve(X, y, X_val, y_val, 1)"
   ]
  },
  {
   "cell_type": "code",
   "execution_count": 538,
   "metadata": {},
   "outputs": [
    {
     "data": {
      "image/png": "[encoded data removed]",
      "text/plain": [
       "<Figure size 504x360 with 1 Axes>"
      ]
     },
     "metadata": {},
     "output_type": "display_data"
    }
   ],
   "source": [
    "plt.figure(figsize=(7, 5))\n",
    "plt.plot(range(m), error_train, label='Training Set');\n",
    "plt.plot(range(m), error_val, label='Validation Set');\n",
    "plt.xlabel('Number of training examples'); plt.ylabel('Error (cost)'); plt.legend();\n",
    "plt.title('Learning curve for linear regression');\n",
    "plt.ylim((0, 150));"
   ]
  },
  {
   "cell_type": "markdown",
   "metadata": {},
   "source": [
    "### 3 Polynomial Regression"
   ]
  },
  {
   "cell_type": "code",
   "execution_count": 539,
   "metadata": {},
   "outputs": [],
   "source": [
    "def polyFeatures(X, p):\n",
    "    \"\"\"\n",
    "        POLYFEATURES Maps X (1D vector) into the p-th power\n",
    "       [X_poly] = POLYFEATURES(X, p) takes a data matrix X (size m x 1) and\n",
    "       maps each example into its polynomial features where\n",
    "       X_poly(i, :) = [X(i) X(i).^2 X(i).^3 ...  X(i).^p];\n",
    "       \n",
    "       Ensure X is only 1st order (no y-intercept or 0-th order terms included)\n",
    "    \"\"\"\n",
    "    \n",
    "    X = np.column_stack([X**(i+1) for i in range(p)])\n",
    "            \n",
    "    return X"
   ]
  },
  {
   "cell_type": "code",
   "execution_count": 540,
   "metadata": {},
   "outputs": [
    {
     "data": {
      "text/plain": [
       "array([[ -1.59367581e+01,   2.53980260e+02],\n",
       "       [ -2.91529792e+01,   8.49896197e+02],\n",
       "       [  3.61895486e+01,   1.30968343e+03],\n",
       "       [  3.74921873e+01,   1.40566411e+03],\n",
       "       [ -4.80588295e+01,   2.30965109e+03],\n",
       "       [ -8.94145794e+00,   7.99496701e+01],\n",
       "       [  1.53077929e+01,   2.34328523e+02],\n",
       "       [ -3.47062658e+01,   1.20452489e+03],\n",
       "       [  1.38915437e+00,   1.92974986e+00],\n",
       "       [ -4.43837599e+01,   1.96991814e+03],\n",
       "       [  7.01350208e+00,   4.91892115e+01],\n",
       "       [  2.27627489e+01,   5.18142738e+02]])"
      ]
     },
     "execution_count": 540,
     "metadata": {},
     "output_type": "execute_result"
    }
   ],
   "source": [
    "polyFeatures(X[:, 1], 2)"
   ]
  },
  {
   "cell_type": "markdown",
   "metadata": {},
   "source": [
    "#### 3.1 Learning Polynomial Regression"
   ]
  },
  {
   "cell_type": "code",
   "execution_count": 541,
   "metadata": {},
   "outputs": [],
   "source": [
    "def featureNormalize(X, mu=None, sigma=None):\n",
    "    \"\"\"\n",
    "        Subtract mean. Divide by standard deviation\n",
    "    \"\"\"\n",
    "    \n",
    "    if mu is None:\n",
    "        mu = X.mean(axis=0)\n",
    "        \n",
    "    if sigma is None:\n",
    "        sigma = X.std(axis=0)\n",
    "    \n",
    "    return (X-mu)/sigma, mu, sigma"
   ]
  },
  {
   "cell_type": "code",
   "execution_count": 542,
   "metadata": {},
   "outputs": [],
   "source": [
    "p = 8;\n",
    "\n",
    "# Map X onto Polynomial Features and Normalize\n",
    "X_poly = polyFeatures(X[:, 1], p);\n",
    "X_poly, mu, sigma = featureNormalize(X_poly);  # Normalize\n",
    "X_poly = np.column_stack([np.ones(m), X_poly]);                   # Add Ones\n",
    "\n",
    "# Map X_poly_test and normalize (using mu and sigma)\n",
    "X_poly_test = polyFeatures(X_test[:, 1], p)\n",
    "X_poly_test = featureNormalize(X_poly_test, mu, sigma)[0]\n",
    "X_poly_test = np.column_stack([np.ones(m_test), X_poly_test])\n",
    "\n",
    "# Map X_poly_val and normalize (using mu and sigma)\n",
    "X_poly_val = polyFeatures(X_val[:, 1], p);\n",
    "X_poly_val = featureNormalize(X_poly_val, mu, sigma)[0]\n",
    "X_poly_val = np.column_stack([np.ones(m_val), X_poly_val])\n"
   ]
  },
  {
   "cell_type": "code",
   "execution_count": 543,
   "metadata": {},
   "outputs": [
    {
     "name": "stdout",
     "output_type": "stream",
     "text": [
      "Warning: Maximum number of iterations has been exceeded.\n",
      "         Current function value: 0.028984\n",
      "         Iterations: 1800\n",
      "         Function evaluations: 37444\n",
      "         Gradient evaluations: 3404\n"
     ]
    }
   ],
   "source": [
    "theta_opt = trainLinearReg(X_poly, y, 0)"
   ]
  },
  {
   "cell_type": "code",
   "execution_count": 544,
   "metadata": {},
   "outputs": [
    {
     "data": {
      "text/plain": [
       "array([ 11.21748449,   9.22475662,  18.34298381,  28.00354705,\n",
       "       -28.24550977, -71.90082018,   9.16584703,  58.54420374,  18.68117427])"
      ]
     },
     "execution_count": 544,
     "metadata": {},
     "output_type": "execute_result"
    }
   ],
   "source": [
    "theta_opt"
   ]
  },
  {
   "cell_type": "code",
   "execution_count": 550,
   "metadata": {},
   "outputs": [
    {
     "data": {
      "image/png": "[encoded data removed]",
      "text/plain": [
       "<Figure size 432x288 with 1 Axes>"
      ]
     },
     "metadata": {},
     "output_type": "display_data"
    }
   ],
   "source": [
    "#  Plot fit over the data\n",
    "plt.plot(X[:, 1], y, 'rx', markersize=6, lw=1.5);\n",
    "plt.xlabel('Change in water level (x)');\n",
    "plt.ylabel('Water flowing out of the dam (y)');\n",
    "\n",
    "plt.plot(X[:, 1], X_poly.dot(theta_opt), 'o', lw=1);\n",
    "\n"
   ]
  },
  {
   "cell_type": "code",
   "execution_count": 551,
   "metadata": {},
   "outputs": [
    {
     "name": "stdout",
     "output_type": "stream",
     "text": [
      "Optimization terminated successfully.\n",
      "         Current function value: 0.000000\n",
      "         Iterations: 2\n",
      "         Function evaluations: 44\n",
      "         Gradient evaluations: 4\n",
      "Optimization terminated successfully.\n",
      "         Current function value: 0.000000\n",
      "         Iterations: 6\n",
      "         Function evaluations: 99\n",
      "         Gradient evaluations: 9\n",
      "Optimization terminated successfully.\n",
      "         Current function value: 0.000000\n",
      "         Iterations: 13\n",
      "         Function evaluations: 264\n",
      "         Gradient evaluations: 24\n",
      "Optimization terminated successfully.\n",
      "         Current function value: 0.000000\n",
      "         Iterations: 13\n",
      "         Function evaluations: 319\n",
      "         Gradient evaluations: 29\n",
      "Optimization terminated successfully.\n",
      "         Current function value: 0.000000\n",
      "         Iterations: 22\n",
      "         Function evaluations: 495\n",
      "         Gradient evaluations: 45\n",
      "Optimization terminated successfully.\n",
      "         Current function value: 0.000000\n",
      "         Iterations: 206\n",
      "         Function evaluations: 4367\n",
      "         Gradient evaluations: 397\n",
      "Optimization terminated successfully.\n",
      "         Current function value: 0.000000\n",
      "         Iterations: 307\n",
      "         Function evaluations: 6248\n",
      "         Gradient evaluations: 568\n",
      "Warning: Desired error not necessarily achieved due to precision loss.\n",
      "         Current function value: 0.006065\n",
      "         Iterations: 390\n",
      "         Function evaluations: 7954\n",
      "         Gradient evaluations: 722\n",
      "Optimization terminated successfully.\n",
      "         Current function value: 0.000186\n",
      "         Iterations: 1558\n",
      "         Function evaluations: 30987\n",
      "         Gradient evaluations: 2817\n",
      "Warning: Desired error not necessarily achieved due to precision loss.\n",
      "         Current function value: 0.015604\n",
      "         Iterations: 1373\n",
      "         Function evaluations: 28502\n",
      "         Gradient evaluations: 2590\n",
      "Warning: Desired error not necessarily achieved due to precision loss.\n",
      "         Current function value: 0.109055\n",
      "         Iterations: 153\n",
      "         Function evaluations: 3125\n",
      "         Gradient evaluations: 283\n",
      "Warning: Maximum number of iterations has been exceeded.\n",
      "         Current function value: 0.028984\n",
      "         Iterations: 1800\n",
      "         Function evaluations: 37444\n",
      "         Gradient evaluations: 3404\n"
     ]
    }
   ],
   "source": [
    "error_train, error_val = learningCurve(X_poly, y, X_poly_val, y_val, 0)"
   ]
  },
  {
   "cell_type": "code",
   "execution_count": 554,
   "metadata": {},
   "outputs": [
    {
     "data": {
      "image/png": "[encoded data removed]",
      "text/plain": [
       "<Figure size 504x360 with 1 Axes>"
      ]
     },
     "metadata": {},
     "output_type": "display_data"
    }
   ],
   "source": [
    "plt.figure(figsize=(7, 5))\n",
    "plt.plot(range(m), error_train, label='Training Set');\n",
    "plt.plot(range(m), error_val, label='Validation Set');\n",
    "plt.xlabel('Number of training examples'); plt.ylabel('Error (cost)'); plt.legend();\n",
    "plt.title('Polynomial Regression Learning curve (Lambda = {})'.format(Lambda));\n",
    "plt.ylim((0, 100));"
   ]
  },
  {
   "cell_type": "markdown",
   "metadata": {},
   "source": [
    "#### 3.2 Optional (ungraded) exercise: Adjusting the regularization parameter"
   ]
  },
  {
   "cell_type": "code",
   "execution_count": null,
   "metadata": {},
   "outputs": [],
   "source": []
  },
  {
   "cell_type": "code",
   "execution_count": 555,
   "metadata": {},
   "outputs": [
    {
     "name": "stdout",
     "output_type": "stream",
     "text": [
      "Optimization terminated successfully.\n",
      "         Current function value: 6.830463\n",
      "         Iterations: 40\n",
      "         Function evaluations: 803\n",
      "         Gradient evaluations: 73\n"
     ]
    }
   ],
   "source": [
    "theta_opt = trainLinearReg(X_poly, y, 1)"
   ]
  },
  {
   "cell_type": "code",
   "execution_count": 556,
   "metadata": {},
   "outputs": [
    {
     "data": {
      "text/plain": [
       "array([ 11.21758885,   8.36723055,   5.10200939,   3.39014203,\n",
       "         2.15882934,   1.62044115,   0.97247437,   1.02575142,   0.32264117])"
      ]
     },
     "execution_count": 556,
     "metadata": {},
     "output_type": "execute_result"
    }
   ],
   "source": [
    "theta_opt"
   ]
  },
  {
   "cell_type": "code",
   "execution_count": 557,
   "metadata": {},
   "outputs": [
    {
     "data": {
      "image/png": "[encoded data removed]",
      "text/plain": [
       "<Figure size 432x288 with 1 Axes>"
      ]
     },
     "metadata": {},
     "output_type": "display_data"
    }
   ],
   "source": [
    "#  Plot fit over the data\n",
    "plt.plot(X[:, 1], y, 'rx', markersize=6, lw=1.5);\n",
    "plt.xlabel('Change in water level (x)');\n",
    "plt.ylabel('Water flowing out of the dam (y)');\n",
    "\n",
    "plt.plot(X[:, 1], X_poly.dot(theta_opt), 'o', lw=1);\n",
    "\n"
   ]
  },
  {
   "cell_type": "code",
   "execution_count": 561,
   "metadata": {},
   "outputs": [
    {
     "name": "stdout",
     "output_type": "stream",
     "text": [
      "Optimization terminated successfully.\n",
      "         Current function value: 0.000000\n",
      "         Iterations: 4\n",
      "         Function evaluations: 88\n",
      "         Gradient evaluations: 8\n",
      "Optimization terminated successfully.\n",
      "         Current function value: 0.070327\n",
      "         Iterations: 20\n",
      "         Function evaluations: 319\n",
      "         Gradient evaluations: 29\n",
      "Optimization terminated successfully.\n",
      "         Current function value: 17.182727\n",
      "         Iterations: 20\n",
      "         Function evaluations: 385\n",
      "         Gradient evaluations: 35\n",
      "Optimization terminated successfully.\n",
      "         Current function value: 13.476899\n",
      "         Iterations: 31\n",
      "         Function evaluations: 594\n",
      "         Gradient evaluations: 54\n",
      "Optimization terminated successfully.\n",
      "         Current function value: 10.781524\n",
      "         Iterations: 10\n",
      "         Function evaluations: 253\n",
      "         Gradient evaluations: 23\n",
      "Optimization terminated successfully.\n",
      "         Current function value: 9.347014\n",
      "         Iterations: 35\n",
      "         Function evaluations: 627\n",
      "         Gradient evaluations: 57\n",
      "Optimization terminated successfully.\n",
      "         Current function value: 8.754387\n",
      "         Iterations: 30\n",
      "         Function evaluations: 517\n",
      "         Gradient evaluations: 47\n",
      "Optimization terminated successfully.\n",
      "         Current function value: 7.682189\n",
      "         Iterations: 28\n",
      "         Function evaluations: 528\n",
      "         Gradient evaluations: 48\n",
      "Optimization terminated successfully.\n",
      "         Current function value: 7.277291\n",
      "         Iterations: 33\n",
      "         Function evaluations: 638\n",
      "         Gradient evaluations: 58\n",
      "Optimization terminated successfully.\n",
      "         Current function value: 6.592031\n",
      "         Iterations: 37\n",
      "         Function evaluations: 715\n",
      "         Gradient evaluations: 65\n",
      "Warning: Desired error not necessarily achieved due to precision loss.\n",
      "         Current function value: 6.360235\n",
      "         Iterations: 5\n",
      "         Function evaluations: 111\n",
      "         Gradient evaluations: 9\n",
      "Optimization terminated successfully.\n",
      "         Current function value: 6.830463\n",
      "         Iterations: 40\n",
      "         Function evaluations: 803\n",
      "         Gradient evaluations: 73\n"
     ]
    }
   ],
   "source": [
    "error_train, error_val = learningCurve(X_poly, y, X_poly_val, y_val, 1)"
   ]
  },
  {
   "cell_type": "code",
   "execution_count": 565,
   "metadata": {},
   "outputs": [
    {
     "data": {
      "image/png": "[encoded data removed]",
      "text/plain": [
       "<Figure size 504x360 with 1 Axes>"
      ]
     },
     "metadata": {},
     "output_type": "display_data"
    }
   ],
   "source": [
    "plt.figure(figsize=(7, 5))\n",
    "plt.plot(range(m), error_train, label='Training Set');\n",
    "plt.plot(range(m), error_val, label='Validation Set');\n",
    "plt.xlabel('Number of training examples'); plt.ylabel('Error (cost)'); plt.legend();\n",
    "plt.title('Polynomial Regression Learning curve (Lambda = {})'.format(Lambda));\n",
    "plt.ylim((0,20));"
   ]
  },
  {
   "cell_type": "markdown",
   "metadata": {},
   "source": [
    "#### 3.3 Selecting Lambda using a cross validation set\n",
    "#### 3.4 Optional (ungraded) exercise: Computing test set error\n",
    "#### 3.5 Optional (ungraded) exercise: Plotting learning curves with randomly selected examples"
   ]
  },
  {
   "cell_type": "code",
   "execution_count": null,
   "metadata": {},
   "outputs": [],
   "source": []
  }
 ],
 "metadata": {
  "kernelspec": {
   "display_name": "Python 3",
   "language": "python",
   "name": "python3"
  },
  "language_info": {
   "codemirror_mode": {
    "name": "ipython",
    "version": 3
   },
   "file_extension": ".py",
   "mimetype": "text/x-python",
   "name": "python",
   "nbconvert_exporter": "python",
   "pygments_lexer": "ipython3",
   "version": "3.6.6"
  }
 },
 "nbformat": 4,
 "nbformat_minor": 2
}
