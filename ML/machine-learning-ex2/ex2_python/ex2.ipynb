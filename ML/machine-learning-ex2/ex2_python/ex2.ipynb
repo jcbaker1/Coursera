{
 "cells": [
  {
   "cell_type": "code",
   "execution_count": 330,
   "metadata": {},
   "outputs": [],
   "source": [
    "import pandas as pd\n",
    "import numpy as np\n",
    "import matplotlib.pyplot as plt"
   ]
  },
  {
   "cell_type": "markdown",
   "metadata": {},
   "source": [
    "## 1. Logistic Regression\n",
    "### 1.1 Plotting the data"
   ]
  },
  {
   "cell_type": "code",
   "execution_count": 331,
   "metadata": {},
   "outputs": [],
   "source": [
    "data_path = '/Users/Jonathan/Documents/Coursera/ML/machine-learning-ex2/ex2/ex2data1.txt'\n",
    "\n",
    "with open(data_path) as f:\n",
    "    data = [i.split(',') for i in f.read().splitlines()]\n",
    "    data = np.array(data).astype(float)"
   ]
  },
  {
   "cell_type": "code",
   "execution_count": 332,
   "metadata": {},
   "outputs": [],
   "source": [
    "df_data = pd.DataFrame(data, columns = ['E1', 'E2', 'Label'])\n",
    "\n",
    "X = data[:, [0,1]]\n",
    "y = data[:, 2]\n",
    "# m = X.shape[0]\n",
    "# n = X.shape[1]\n",
    "m, n = X.shape"
   ]
  },
  {
   "cell_type": "code",
   "execution_count": 333,
   "metadata": {},
   "outputs": [
    {
     "data": {
      "text/plain": [
       "Text(0,0.5,'Exam 2 Score')"
      ]
     },
     "execution_count": 333,
     "metadata": {},
     "output_type": "execute_result"
    },
    {
     "data": {
      "image/png": "[encoded data removed]",
      "text/plain": [
       "<matplotlib.figure.Figure at 0x1a1f6a8320>"
      ]
     },
     "metadata": {},
     "output_type": "display_data"
    }
   ],
   "source": [
    "plt.scatter(df_data.E1[df_data.Label == 0], df_data.E2[df_data.Label == 0], label='Not Admitted')\n",
    "plt.scatter(df_data.E1[df_data.Label == 1], df_data.E2[df_data.Label == 1], label='Admitted')\n",
    "    \n",
    "plt.legend()\n",
    "plt.xlabel('Exam 1 Score')\n",
    "plt.ylabel('Exam 2 Score')"
   ]
  },
  {
   "cell_type": "markdown",
   "metadata": {},
   "source": [
    "## 1.2 Implementation\n",
    "### 1.2.1 Warmup exercise: Sigmoid Function"
   ]
  },
  {
   "cell_type": "code",
   "execution_count": 334,
   "metadata": {},
   "outputs": [],
   "source": [
    "def sigmoid(X):\n",
    "    \n",
    "    return 1 / (1 + np.exp(-X))"
   ]
  },
  {
   "cell_type": "code",
   "execution_count": 335,
   "metadata": {},
   "outputs": [
    {
     "data": {
      "text/plain": [
       "[<matplotlib.lines.Line2D at 0x1a1f7c99e8>]"
      ]
     },
     "execution_count": 335,
     "metadata": {},
     "output_type": "execute_result"
    },
    {
     "data": {
      "image/png": "[encoded data removed]",
      "text/plain": [
       "<matplotlib.figure.Figure at 0x1a1f8df4e0>"
      ]
     },
     "metadata": {},
     "output_type": "display_data"
    }
   ],
   "source": [
    "# Test vector input\n",
    "plt.plot(np.linspace(-10, 10, 200), sigmoid(np.linspace(-10, 10, 200)))"
   ]
  },
  {
   "cell_type": "markdown",
   "metadata": {},
   "source": [
    "### 1.2.2 Cost Function & Gradient"
   ]
  },
  {
   "cell_type": "code",
   "execution_count": 349,
   "metadata": {},
   "outputs": [],
   "source": [
    "def costFunction(theta, X, y, grad=False):\n",
    "    \"\"\"\n",
    "    Compute cost and gradient for logistic regression\n",
    "    J = costFunction(theta, X, y) computes the cost of using theta as the\n",
    "    parameter for logistic regression and the gradient of the cost\n",
    "    w.r.t. to the parameters.\n",
    "    \"\"\"\n",
    "    \n",
    "    m = len(y)\n",
    "    y_hat = sigmoid(np.dot(X, theta))\n",
    "    \n",
    "    J = (np.sum((-y * np.log(y_hat)) - ((1-y) * np.log(1-y_hat)))) / m\n",
    "    #J = ((np.dot(np.transpose(-y), np.log(y_hat))) - np.dot(np.transpose(1-y), np.log(1-y_hat))) / m\n",
    "        \n",
    "    if grad == True:\n",
    "        grad = np.dot(np.transpose(X), (y_hat - y)) / m\n",
    "        \n",
    "        return J, grad\n",
    "    \n",
    "    else:\n",
    "        return J\n",
    "    \n",
    "    \n",
    "def Gradient(theta, X, y):\n",
    "    \n",
    "    m = len(y)\n",
    "    y_hat = sigmoid(np.dot(X, theta))    \n",
    "    \n",
    "    grad = np.dot(np.transpose(X), (y_hat - y)) / m\n",
    "    \n",
    "    return grad"
   ]
  },
  {
   "cell_type": "code",
   "execution_count": 337,
   "metadata": {},
   "outputs": [],
   "source": [
    "X = np.column_stack([np.ones(m), X])"
   ]
  },
  {
   "cell_type": "code",
   "execution_count": 338,
   "metadata": {},
   "outputs": [
    {
     "name": "stdout",
     "output_type": "stream",
     "text": [
      "[0. 0. 0.]\n"
     ]
    }
   ],
   "source": [
    "theta = np.zeros(n+1)\n",
    "print(theta)"
   ]
  },
  {
   "cell_type": "code",
   "execution_count": 339,
   "metadata": {},
   "outputs": [
    {
     "name": "stdout",
     "output_type": "stream",
     "text": [
      "Cost at initial theta (zeros): 0.693147\n",
      "Expected cost (approx): 0.693\n",
      "\n",
      "Gradient at initial theta (zeros): [-0.1, -12.009216589291151, -11.262842205513593]\n",
      "Expected gradients (approx): [-0.1000, -12.0092, -11.2628]\n"
     ]
    }
   ],
   "source": [
    "# Compute and display initial cost and gradient\n",
    "# Expected cost (approx): 0.693\n",
    "# Expected gratidents (approx): [-0.1000, -12.0092, -11.2628]\n",
    "cost, grad = costFunction(theta, X, y, True)\n",
    "\n",
    "print('Cost at initial theta (zeros): %f' % cost);\n",
    "print('Expected cost (approx): 0.693\\n');\n",
    "print('Gradient at initial theta (zeros): %s' % list(grad));\n",
    "print('Expected gradients (approx): [-0.1000, -12.0092, -11.2628]');"
   ]
  },
  {
   "cell_type": "code",
   "execution_count": 340,
   "metadata": {},
   "outputs": [
    {
     "name": "stdout",
     "output_type": "stream",
     "text": [
      "\n",
      "Cost at test theta: 0.218330\n",
      "Expected cost (approx): 0.218\n",
      "\n",
      "Gradient at test theta: [0.04290299 2.56623412 2.64679737]\n",
      "Expected gradients (approx): [0.043, 2.566, 2.647]\n"
     ]
    }
   ],
   "source": [
    "# More tests:\n",
    "test_theta = np.array([-24, 0.2, 0.2])\n",
    "cost, grad = costFunction(test_theta, X, y, True);\n",
    "\n",
    "print('\\nCost at test theta: %f' % cost);\n",
    "print('Expected cost (approx): 0.218\\n');\n",
    "print('Gradient at test theta: %s' % str(grad));\n",
    "print('Expected gradients (approx): [0.043, 2.566, 2.647]');\n"
   ]
  },
  {
   "cell_type": "markdown",
   "metadata": {},
   "source": [
    "### 1.2.3 Learning parameters using scipy.optimize\n",
    "(fminunc for Matlab/Octave)"
   ]
  },
  {
   "cell_type": "code",
   "execution_count": 341,
   "metadata": {},
   "outputs": [],
   "source": [
    "from scipy import optimize"
   ]
  },
  {
   "cell_type": "code",
   "execution_count": 342,
   "metadata": {},
   "outputs": [
    {
     "name": "stdout",
     "output_type": "stream",
     "text": [
      "Optimization terminated successfully.\n",
      "         Current function value: 0.203498\n",
      "         Iterations: 157\n",
      "         Function evaluations: 287\n"
     ]
    }
   ],
   "source": [
    "theta_opt = optimize.fmin(costFunction, x0=theta, args=(X, y), disp=1)"
   ]
  },
  {
   "cell_type": "code",
   "execution_count": 343,
   "metadata": {},
   "outputs": [
    {
     "data": {
      "text/plain": [
       "array([-25.16130062,   0.20623142,   0.20147143])"
      ]
     },
     "execution_count": 343,
     "metadata": {},
     "output_type": "execute_result"
    }
   ],
   "source": [
    "theta_opt"
   ]
  },
  {
   "cell_type": "markdown",
   "metadata": {},
   "source": [
    "### 1.2.4 Evaluating Logistic Regression"
   ]
  },
  {
   "cell_type": "code",
   "execution_count": 344,
   "metadata": {},
   "outputs": [
    {
     "data": {
      "text/plain": [
       "0.7762915904112411"
      ]
     },
     "execution_count": 344,
     "metadata": {},
     "output_type": "execute_result"
    }
   ],
   "source": [
    "x_test = np.array([1, 45, 85])\n",
    "sigmoid(theta_opt.dot(x_test))"
   ]
  },
  {
   "cell_type": "code",
   "execution_count": 348,
   "metadata": {},
   "outputs": [
    {
     "data": {
      "text/plain": [
       "Text(0,0.5,'Exam 2 Score')"
      ]
     },
     "execution_count": 348,
     "metadata": {},
     "output_type": "execute_result"
    },
    {
     "data": {
      "image/png": "[encoded data removed]",
      "text/plain": [
       "<matplotlib.figure.Figure at 0x1a1fa9a3c8>"
      ]
     },
     "metadata": {},
     "output_type": "display_data"
    }
   ],
   "source": [
    "plt.scatter(df_data.E1[df_data.Label == 0], df_data.E2[df_data.Label == 0], label='Not Admitted')\n",
    "plt.scatter(df_data.E1[df_data.Label == 1], df_data.E2[df_data.Label == 1], label='Admitted')\n",
    "plt.plot( X[:, 1], -(theta_opt[0] + theta_opt[1]*X[:, 1])/theta_opt[2], label = 'Decision Boundary', color='r')\n",
    "\n",
    "plt.legend()\n",
    "plt.xlabel('Exam 1 Score')\n",
    "plt.ylabel('Exam 2 Score')"
   ]
  },
  {
   "cell_type": "code",
   "execution_count": 291,
   "metadata": {},
   "outputs": [],
   "source": [
    "def predict(theta, X):\n",
    "    \"\"\"\n",
    "    Predict whether the label is 0 or 1 using learned logistic \n",
    "    regression parameters theta\n",
    "    p = PREDICT(theta, X) computes the predictions for X using a \n",
    "    threshold at 0.5 (i.e., if sigmoid(theta'*x) >= 0.5, predict 1)\n",
    "    \"\"\"\n",
    "\n",
    "    m = X.shape[0]; # Number of training examples    \n",
    "    \n",
    "    y_hat =  sigmoid(X.dot(theta))\n",
    "    \n",
    "    p = y_hat\n",
    "    p[p < 0.5] = 0\n",
    "    p[p >= 0.5] = 1\n",
    "    \n",
    "    return p"
   ]
  },
  {
   "cell_type": "code",
   "execution_count": 292,
   "metadata": {},
   "outputs": [
    {
     "data": {
      "text/plain": [
       "array([0., 0., 0., 1., 1., 0., 1., 0., 1., 1., 1., 0., 1., 1., 0., 1., 0.,\n",
       "       0., 1., 1., 0., 1., 0., 0., 1., 1., 1., 1., 0., 0., 1., 1., 0., 0.,\n",
       "       0., 0., 1., 1., 0., 0., 1., 0., 1., 1., 0., 0., 1., 1., 1., 1., 1.,\n",
       "       1., 1., 0., 0., 0., 1., 1., 1., 1., 1., 0., 0., 0., 0., 0., 1., 0.,\n",
       "       1., 1., 0., 1., 1., 1., 1., 1., 1., 1., 0., 1., 1., 1., 1., 0., 1.,\n",
       "       1., 0., 1., 1., 0., 1., 1., 0., 1., 1., 1., 1., 1., 0., 1.])"
      ]
     },
     "execution_count": 292,
     "metadata": {},
     "output_type": "execute_result"
    }
   ],
   "source": [
    "predict(theta_opt, X)"
   ]
  },
  {
   "cell_type": "code",
   "execution_count": 293,
   "metadata": {},
   "outputs": [
    {
     "name": "stdout",
     "output_type": "stream",
     "text": [
      "For a student with scores 45 and 85, we predict an admission probability of 0.7762915904112411\n",
      "Expected value: 0.775 +/- 0.002\n",
      "\n",
      "Train Accuracy: 89.000000\n",
      "Expected accuracy (approx): 89.0\n"
     ]
    }
   ],
   "source": [
    "prob = sigmoid(np.array([1, 45, 85]).dot(theta_opt));\n",
    "print('For a student with scores 45 and 85, we predict an admission probability of %s' % prob);\n",
    "print('Expected value: 0.775 +/- 0.002\\n');\n",
    "\n",
    "# Compute accuracy on our training set\n",
    "p = predict(theta_opt, X);\n",
    "\n",
    "print('Train Accuracy: %f' % (np.mean(np.double(p == y)) * 100));\n",
    "print('Expected accuracy (approx): 89.0');\n"
   ]
  },
  {
   "cell_type": "markdown",
   "metadata": {},
   "source": [
    "#### Playing around to get a better fit!\n",
    "Let's try a quadratic"
   ]
  },
  {
   "cell_type": "code",
   "execution_count": 506,
   "metadata": {},
   "outputs": [
    {
     "name": "stdout",
     "output_type": "stream",
     "text": [
      "100 2\n"
     ]
    }
   ],
   "source": [
    "df_data = pd.DataFrame(data, columns = ['E1', 'E2', 'Label'])\n",
    "\n",
    "X = data[:, [0,1]]\n",
    "y = data[:, 2]\n",
    "# m = X.shape[0]\n",
    "# n = X.shape[1]\n",
    "m, n = X.shape; print(m, n)"
   ]
  },
  {
   "cell_type": "code",
   "execution_count": 507,
   "metadata": {},
   "outputs": [
    {
     "name": "stdout",
     "output_type": "stream",
     "text": [
      "100 6\n"
     ]
    }
   ],
   "source": [
    "# X = [1, x_1, x_2, x_1**2, x_2**2, x_1 * x_2]\n",
    "X = np.column_stack([np.ones(m), X, X**2, X[:, 0]*X[:, 1]])\n",
    "m, n = X.shape; print(m, n)\n",
    "theta = np.zeros(n)"
   ]
  },
  {
   "cell_type": "code",
   "execution_count": 508,
   "metadata": {},
   "outputs": [
    {
     "name": "stdout",
     "output_type": "stream",
     "text": [
      "Optimization terminated successfully.\n",
      "         Current function value: 0.088924\n",
      "         Iterations: 306\n",
      "         Function evaluations: 491\n"
     ]
    },
    {
     "name": "stderr",
     "output_type": "stream",
     "text": [
      "/Users/Jonathan/anaconda3/lib/python3.6/site-packages/ipykernel_launcher.py:12: RuntimeWarning: divide by zero encountered in log\n",
      "  if sys.path[0] == '':\n",
      "/Users/Jonathan/anaconda3/lib/python3.6/site-packages/ipykernel_launcher.py:12: RuntimeWarning: invalid value encountered in multiply\n",
      "  if sys.path[0] == '':\n"
     ]
    }
   ],
   "source": [
    "theta_opt = optimize.fmin(costFunction, x0=theta, args=(X, y), disp=1)"
   ]
  },
  {
   "cell_type": "code",
   "execution_count": 509,
   "metadata": {},
   "outputs": [
    {
     "data": {
      "text/plain": [
       "array([ 0.0211857 , -0.5234961 , -0.13598919,  0.0020087 , -0.00088996,\n",
       "        0.01028182])"
      ]
     },
     "execution_count": 509,
     "metadata": {},
     "output_type": "execute_result"
    }
   ],
   "source": [
    "theta_opt"
   ]
  },
  {
   "cell_type": "markdown",
   "metadata": {},
   "source": [
    "Solving for x2 (using quadratic formula) to get decision boundary:"
   ]
  },
  {
   "cell_type": "code",
   "execution_count": 510,
   "metadata": {},
   "outputs": [
    {
     "name": "stderr",
     "output_type": "stream",
     "text": [
      "/Users/Jonathan/anaconda3/lib/python3.6/site-packages/ipykernel_launcher.py:5: RuntimeWarning: invalid value encountered in sqrt\n",
      "  \"\"\"\n"
     ]
    }
   ],
   "source": [
    "a = theta_opt[4]\n",
    "b = theta_opt[2] + theta_opt[5]*X[:, 1]\n",
    "c = theta_opt[0] + theta_opt[1]*X[:, 1] + theta_opt[3]* X[:, 3]\n",
    "\n",
    "x_2_boundary = (-b + np.sqrt((b**2) - (4*a*c))) / (2*a)\n",
    "#x_2_boundary = (-b - np.sqrt((b**2) - (4*a*c))) / (2*a) # minus doesn't give correct result"
   ]
  },
  {
   "cell_type": "code",
   "execution_count": 511,
   "metadata": {},
   "outputs": [
    {
     "data": {
      "text/plain": [
       "Text(0,0.5,'Exam 2 Score')"
      ]
     },
     "execution_count": 511,
     "metadata": {},
     "output_type": "execute_result"
    },
    {
     "data": {
      "image/png": "[encoded data removed]",
      "text/plain": [
       "<matplotlib.figure.Figure at 0x1a2065c978>"
      ]
     },
     "metadata": {},
     "output_type": "display_data"
    }
   ],
   "source": [
    "plt.scatter(df_data.E1[df_data.Label == 0], df_data.E2[df_data.Label == 0], label='Not Admitted')\n",
    "plt.scatter(df_data.E1[df_data.Label == 1], df_data.E2[df_data.Label == 1], label='Admitted')\n",
    "plt.plot( X[:, 1]\n",
    "         , x_2_boundary\n",
    "         , 'o'\n",
    "         , label = 'Decision Boundary', color='r')\n",
    "\n",
    "plt.legend()\n",
    "plt.xlabel('Exam 1 Score')\n",
    "plt.ylabel('Exam 2 Score')"
   ]
  },
  {
   "cell_type": "markdown",
   "metadata": {},
   "source": [
    "Looks reasonable!"
   ]
  },
  {
   "cell_type": "code",
   "execution_count": 486,
   "metadata": {},
   "outputs": [
    {
     "data": {
      "text/plain": [
       "array([0., 0., 0., 1., 1., 0., 1., 0., 1., 1., 0., 0., 1., 1., 0., 1., 1.,\n",
       "       0., 1., 1., 0., 1., 0., 0., 1., 1., 1., 0., 0., 0., 1., 1., 0., 1.,\n",
       "       0., 0., 0., 1., 0., 0., 1., 0., 1., 0., 0., 0., 1., 1., 1., 1., 1.,\n",
       "       1., 1., 0., 0., 0., 1., 0., 1., 1., 1., 0., 0., 0., 0., 0., 1., 0.,\n",
       "       1., 1., 0., 1., 1., 1., 1., 1., 1., 1., 0., 0., 1., 1., 1., 1., 1.,\n",
       "       1., 0., 1., 1., 0., 1., 1., 0., 1., 1., 1., 1., 1., 1., 1.])"
      ]
     },
     "execution_count": 486,
     "metadata": {},
     "output_type": "execute_result"
    }
   ],
   "source": [
    "predict(theta_opt, X)"
   ]
  },
  {
   "cell_type": "code",
   "execution_count": 494,
   "metadata": {},
   "outputs": [
    {
     "name": "stdout",
     "output_type": "stream",
     "text": [
      "For a student with scores 45 and 85, we predict an admission probability of 0.8665063735699885\n",
      "Train Accuracy: 99.000000 \n",
      "\n"
     ]
    }
   ],
   "source": [
    "prob = sigmoid(np.array([1, 45, 85, 45**2, 85**2, 45*85]).dot(theta_opt));\n",
    "print('For a student with scores 45 and 85, we predict an admission probability of %s' % prob);\n",
    "\n",
    "# Compute accuracy on our training set\n",
    "p = predict(theta_opt, X);\n",
    "\n",
    "print('Train Accuracy: %f \\n' % (np.mean(np.double(p == y)) * 100));"
   ]
  },
  {
   "cell_type": "markdown",
   "metadata": {},
   "source": [
    "Training accuracy is considerably better as expected"
   ]
  },
  {
   "cell_type": "markdown",
   "metadata": {},
   "source": [
    "### Try using SKLearn"
   ]
  },
  {
   "cell_type": "code",
   "execution_count": 512,
   "metadata": {},
   "outputs": [],
   "source": [
    "from sklearn.linear_model import LogisticRegression"
   ]
  },
  {
   "cell_type": "code",
   "execution_count": 546,
   "metadata": {},
   "outputs": [
    {
     "name": "stdout",
     "output_type": "stream",
     "text": [
      "100 2\n"
     ]
    }
   ],
   "source": [
    "df_data = pd.DataFrame(data, columns = ['E1', 'E2', 'Label'])\n",
    "\n",
    "X = data[:, [0,1]]\n",
    "y = data[:, 2]\n",
    "# m = X.shape[0]\n",
    "# n = X.shape[1]\n",
    "m, n = X.shape; print(m, n)"
   ]
  },
  {
   "cell_type": "code",
   "execution_count": 547,
   "metadata": {},
   "outputs": [],
   "source": [
    "clf = LogisticRegression()"
   ]
  },
  {
   "cell_type": "code",
   "execution_count": 548,
   "metadata": {},
   "outputs": [
    {
     "data": {
      "text/plain": [
       "LogisticRegression(C=1.0, class_weight=None, dual=False, fit_intercept=True,\n",
       "          intercept_scaling=1, max_iter=100, multi_class='ovr', n_jobs=1,\n",
       "          penalty='l2', random_state=None, solver='liblinear', tol=0.0001,\n",
       "          verbose=0, warm_start=False)"
      ]
     },
     "execution_count": 548,
     "metadata": {},
     "output_type": "execute_result"
    }
   ],
   "source": [
    "clf.fit(X, y)"
   ]
  },
  {
   "cell_type": "code",
   "execution_count": 549,
   "metadata": {},
   "outputs": [
    {
     "name": "stdout",
     "output_type": "stream",
     "text": [
      "x_0, x_1, x_2 = [-3.89977794  0.03844482  0.03101855]\n"
     ]
    }
   ],
   "source": [
    "print('x_0, x_1, x_2 = {}'.format(np.append(clf.intercept_, clf.coef_)))"
   ]
  },
  {
   "cell_type": "markdown",
   "metadata": {},
   "source": [
    "Gives different results to linear model above ([-25.16130062,   0.20623142,   0.20147143]). Not sure why..."
   ]
  },
  {
   "cell_type": "code",
   "execution_count": 553,
   "metadata": {},
   "outputs": [
    {
     "name": "stdout",
     "output_type": "stream",
     "text": [
      "100 2\n",
      "100 5\n"
     ]
    }
   ],
   "source": [
    "df_data = pd.DataFrame(data, columns = ['E1', 'E2', 'Label'])\n",
    "\n",
    "X = data[:, [0,1]]\n",
    "y = data[:, 2]\n",
    "# m = X.shape[0]\n",
    "# n = X.shape[1]\n",
    "m, n = X.shape; print(m, n)\n",
    "\n",
    "# X = [1, x_1, x_2, x_1**2, x_2**2, x_1 * x_2]\n",
    "X = np.column_stack([X, X**2, X[:, 0]*X[:, 1]]) # dont add the intercept term this time\n",
    "m, n = X.shape; print(m, n)\n",
    "theta = np.zeros(n)"
   ]
  },
  {
   "cell_type": "code",
   "execution_count": 554,
   "metadata": {},
   "outputs": [],
   "source": [
    "clf = LogisticRegression()"
   ]
  },
  {
   "cell_type": "code",
   "execution_count": 555,
   "metadata": {},
   "outputs": [
    {
     "data": {
      "text/plain": [
       "LogisticRegression(C=1.0, class_weight=None, dual=False, fit_intercept=True,\n",
       "          intercept_scaling=1, max_iter=100, multi_class='ovr', n_jobs=1,\n",
       "          penalty='l2', random_state=None, solver='liblinear', tol=0.0001,\n",
       "          verbose=0, warm_start=False)"
      ]
     },
     "execution_count": 555,
     "metadata": {},
     "output_type": "execute_result"
    }
   ],
   "source": [
    "clf.fit(X, y)"
   ]
  },
  {
   "cell_type": "code",
   "execution_count": 556,
   "metadata": {},
   "outputs": [
    {
     "name": "stdout",
     "output_type": "stream",
     "text": [
      "x_0, x_1, x_2, x_3, x_4, x_5, x_6 = [-2.04642679e-02 -5.62331307e-01 -6.46537216e-01  5.10961767e-04\n",
      "  1.33146067e-03  1.91678695e-02]\n"
     ]
    }
   ],
   "source": [
    "print('x_0, x_1, x_2, x_3, x_4, x_5, x_6 = {}'.format(np.append(clf.intercept_, clf.coef_)))"
   ]
  },
  {
   "cell_type": "markdown",
   "metadata": {},
   "source": [
    "Compared with previous thetas of [ 0.0211857 , -0.5234961 , -0.13598919,  0.0020087 , -0.00088996,\n",
    "        0.01028182]"
   ]
  },
  {
   "cell_type": "code",
   "execution_count": 557,
   "metadata": {},
   "outputs": [],
   "source": [
    "theta_opt = np.append(clf.intercept_, clf.coef_)\n",
    "\n",
    "a = theta_opt[4]\n",
    "b = theta_opt[2] + theta_opt[5]*X[:, 1]\n",
    "c = theta_opt[0] + theta_opt[1]*X[:, 1] + theta_opt[3]* X[:, 3]\n",
    "\n",
    "x_2_boundary = (-b + np.sqrt((b**2) - (4*a*c))) / (2*a)\n",
    "#x_2_boundary = (-b - np.sqrt((b**2) - (4*a*c))) / (2*a) # minus doesn't give correct result"
   ]
  },
  {
   "cell_type": "code",
   "execution_count": 558,
   "metadata": {},
   "outputs": [
    {
     "data": {
      "text/plain": [
       "Text(0,0.5,'Exam 2 Score')"
      ]
     },
     "execution_count": 558,
     "metadata": {},
     "output_type": "execute_result"
    },
    {
     "data": {
      "image/png": "[encoded data removed]",
      "text/plain": [
       "<matplotlib.figure.Figure at 0x1a215d4630>"
      ]
     },
     "metadata": {},
     "output_type": "display_data"
    }
   ],
   "source": [
    "plt.scatter(df_data.E1[df_data.Label == 0], df_data.E2[df_data.Label == 0], label='Not Admitted')\n",
    "plt.scatter(df_data.E1[df_data.Label == 1], df_data.E2[df_data.Label == 1], label='Admitted')\n",
    "plt.plot( X[:, 1]\n",
    "         , x_2_boundary\n",
    "         , 'o'\n",
    "         , label = 'Decision Boundary', color='r')\n",
    "\n",
    "plt.legend()\n",
    "plt.xlabel('Exam 1 Score')\n",
    "plt.ylabel('Exam 2 Score')"
   ]
  },
  {
   "cell_type": "markdown",
   "metadata": {},
   "source": [
    "Still looks reasonable enough"
   ]
  },
  {
   "cell_type": "markdown",
   "metadata": {},
   "source": [
    "## 2 Regulatized Logistic Regression\n",
    "### 2.1 Visualizing the data"
   ]
  },
  {
   "cell_type": "code",
   "execution_count": 562,
   "metadata": {},
   "outputs": [],
   "source": [
    "# =========== Part 1: Regularized Logistic Regression ============\n",
    "#  In this part, you are given a dataset with data points that are not\n",
    "#  linearly separable. However, you would still like to use logistic\n",
    "#  regression to classify the data points.\n",
    "#\n",
    "#  To do so, you introduce more features to use -- in particular, you add\n",
    "#  polynomial features to our data matrix (similar to polynomial\n",
    "#  regression).\n",
    "#"
   ]
  },
  {
   "cell_type": "code",
   "execution_count": 764,
   "metadata": {},
   "outputs": [
    {
     "name": "stdout",
     "output_type": "stream",
     "text": [
      "118\n"
     ]
    }
   ],
   "source": [
    "data_path = '/Users/Jonathan/Documents/Coursera/ML/machine-learning-ex2/ex2/ex2data2.txt'\n",
    "data = np.loadtxt(data_path, delimiter=',')\n",
    "X = data[:, [0,1]]\n",
    "y = data[:, 2]\n",
    "m = X.shape[0]; print(m)"
   ]
  },
  {
   "cell_type": "code",
   "execution_count": 765,
   "metadata": {},
   "outputs": [
    {
     "data": {
      "text/plain": [
       "Text(0,0.5,'Microchip Test 2')"
      ]
     },
     "execution_count": 765,
     "metadata": {},
     "output_type": "execute_result"
    },
    {
     "data": {
      "image/png": "[encoded data removed]",
      "text/plain": [
       "<matplotlib.figure.Figure at 0x1a280809e8>"
      ]
     },
     "metadata": {},
     "output_type": "display_data"
    }
   ],
   "source": [
    "plt.scatter(X[y == 0, 0], X[y == 0, 1], label = 'y=0', color='y')\n",
    "plt.scatter(X[y == 1, 0], X[y == 1, 1], label = 'y=1', color='k')\n",
    "plt.legend()\n",
    "plt.xlabel('Microchip Test 1')\n",
    "plt.ylabel('Microchip Test 2')"
   ]
  },
  {
   "cell_type": "markdown",
   "metadata": {},
   "source": [
    "### 2.2 Feature Mapping\n",
    "\n",
    "One way to fit the data better is to create more features from each data\n",
    "point. In the provided function mapFeature.m, we will map the features into\n",
    "all polynomial terms of x1 and x2 up to the sixth power"
   ]
  },
  {
   "cell_type": "code",
   "execution_count": 766,
   "metadata": {},
   "outputs": [],
   "source": [
    "def mapFeature(X1, X2, degree=6):\n",
    "    \"\"\"\n",
    "    MAPFEATURE Feature mapping function to polynomial features\n",
    "    \n",
    "    MAPFEATURE(X1, X2) maps the two input features\n",
    "    to quadratic features used in the regularization exercise.\n",
    "    \n",
    "    Returns a new feature array with more features, comprising of \n",
    "    X1, X2, X1.^2, X2.^2, X1*X2, X1*X2.^2, etc..\n",
    "    \n",
    "    Inputs X1, X2 must be the same size\n",
    "    \"\"\"\n",
    "    m = len(X1)\n",
    "    out = np.ones(m)\n",
    "    \n",
    "    for i in np.arange(1, degree + 1, 1):\n",
    "        for j in range(i+1):\n",
    "            out = np.column_stack([out, X1**(i-j)*X2**(j)])\n",
    "    \n",
    "    return out"
   ]
  },
  {
   "cell_type": "code",
   "execution_count": 767,
   "metadata": {},
   "outputs": [],
   "source": [
    "X = mapFeature(X[:, 0], X[:, 1])"
   ]
  },
  {
   "cell_type": "markdown",
   "metadata": {},
   "source": [
    "### 2.3 Cost function and gradient"
   ]
  },
  {
   "cell_type": "code",
   "execution_count": 753,
   "metadata": {},
   "outputs": [],
   "source": [
    "def costFunctionReg(theta, X, y, Lambda):\n",
    "    \"\"\"\n",
    "    COSTFUNCTIONREG Compute cost for logistic regression with regularization\n",
    "    J = COSTFUNCTIONREG(theta, X, y, lambda) computes the cost of using\n",
    "    theta as the parameter for regularized logistic regression. \n",
    "    \"\"\"\n",
    "    # Initialize some useful values\n",
    "    m = len(y); # number of training examples\n",
    "    n = X.shape[1]\n",
    "    \n",
    "    # Estimated y value\n",
    "    y_hat = sigmoid(X.dot(theta))\n",
    "    \n",
    "    # 0, 1 mask for the regulatization term. mask=0 for intercept parameter, 1 for remainder\n",
    "    reg_mask = np.append(0, np.ones(n-1))\n",
    "    \n",
    "    # Regularization term\n",
    "    reg = np.sum((theta * reg_mask)** 2) * Lambda/(2*m)\n",
    "    \n",
    "    J = np.sum((- y * np.log(y_hat)) - ((1 - y) * np.log(1 - y_hat)))/m\n",
    "\n",
    "    J_reg = J + reg\n",
    "    \n",
    "    return J_reg"
   ]
  },
  {
   "cell_type": "code",
   "execution_count": 754,
   "metadata": {},
   "outputs": [],
   "source": [
    "def gradientReg(theta, X, y, Lambda):\n",
    "    \"\"\"\n",
    "    Compute gradient for logistic regression with regularization\n",
    "    Computes gradient of the cost w.r.t. to the parameters. \n",
    "    \"\"\"\n",
    "\n",
    "    # Initialize some useful values\n",
    "    m = len(y) # number of training examples\n",
    "    n = X.shape[1]\n",
    "   \n",
    "    # Estimated y value\n",
    "    y_hat = sigmoid(X.dot(theta))\n",
    "\n",
    "    # 0, 1 mask for the regulatization term. mask=0 for intercept parameter, 1 for remainder\n",
    "    reg_mask = np.append(0, np.ones(n-1))\n",
    "    \n",
    "    # Regularization term\n",
    "    reg = Lambda * theta * reg_mask / m\n",
    "    \n",
    "    # Gradient\n",
    "    grad = (np.transpose(y_hat - y).dot(X) / m ) + reg\n",
    "    \n",
    "    return grad"
   ]
  },
  {
   "cell_type": "code",
   "execution_count": 755,
   "metadata": {},
   "outputs": [
    {
     "name": "stdout",
     "output_type": "stream",
     "text": [
      "Cost at initial theta (zeros): 0.6931471805599454\n",
      "Expected cost (approx): 0.693\n",
      "\n",
      "Gradient at initial theta (zeros) - first five values only:\n",
      "[0.0085 0.0188 0.0001 0.0503 0.0115]\n",
      "Expected gradients (approx) - first five values only:\n",
      "[0.0085 0.0188 0.0001 0.0503 0.0115]\n"
     ]
    }
   ],
   "source": [
    "# Initialize fitting parameters\n",
    "initial_theta = np.zeros(X.shape[1]);\n",
    "\n",
    "# Set regularization parameter lambda to 1\n",
    "Lambda = 1;\n",
    "\n",
    "# Compute and display initial cost and gradient for regularized logistic regression\n",
    "cost = costFunctionReg(initial_theta, X, y, Lambda); \n",
    "grad = gradientReg(initial_theta, X, y, Lambda);\n",
    "\n",
    "\n",
    "print('Cost at initial theta (zeros): {}'.format(cost));\n",
    "print('Expected cost (approx): 0.693\\n');\n",
    "print('Gradient at initial theta (zeros) - first five values only:');\n",
    "print('{}'.format(grad[0:5].round(4)));\n",
    "print('Expected gradients (approx) - first five values only:');\n",
    "print('[0.0085 0.0188 0.0001 0.0503 0.0115]');\n",
    "\n",
    "\n"
   ]
  },
  {
   "cell_type": "markdown",
   "metadata": {},
   "source": [
    "Further testing:"
   ]
  },
  {
   "cell_type": "code",
   "execution_count": 756,
   "metadata": {},
   "outputs": [
    {
     "name": "stdout",
     "output_type": "stream",
     "text": [
      "\n",
      "Cost at test theta (with lambda = 10): 3.1645093316150095\n",
      "Expected cost (approx): 3.16\n",
      "\n",
      "Gradient at test theta - first five values only:\n",
      "[0.34605 0.16135 0.1948  0.22686 0.09219]\n",
      "Expected gradients (approx) - first five values only:\n",
      "[0.3460 0.1614 0.1948 0.2269 0.0922]\n"
     ]
    }
   ],
   "source": [
    "\n",
    "# Compute and display cost and gradient\n",
    "# with all-ones theta and lambda = 10\n",
    "test_theta = np.ones(X.shape[1]);\n",
    "\n",
    "cost = costFunctionReg(test_theta, X, y, 10);\n",
    "grad = gradientReg(test_theta, X, y, 10);\n",
    "\n",
    "print('\\nCost at test theta (with lambda = 10): {}'.format(cost));\n",
    "print('Expected cost (approx): 3.16\\n');\n",
    "print('Gradient at test theta - first five values only:');\n",
    "print('{}'.format(grad[0:5].round(5)));\n",
    "print('Expected gradients (approx) - first five values only:');\n",
    "print('[0.3460 0.1614 0.1948 0.2269 0.0922]');"
   ]
  },
  {
   "cell_type": "markdown",
   "metadata": {},
   "source": [
    "#### 2.3.1 Learning parameters using scipy.optimize (fminunc in octave)"
   ]
  },
  {
   "cell_type": "code",
   "execution_count": 893,
   "metadata": {},
   "outputs": [],
   "source": [
    "from scipy import optimize"
   ]
  },
  {
   "cell_type": "code",
   "execution_count": 894,
   "metadata": {},
   "outputs": [],
   "source": [
    "# ============= Part 2: Regularization and Accuracies =============\n",
    "#  Optional Exercise:\n",
    "#  In this part, you will get to try different values of lambda and\n",
    "#  see how regularization affects the decision coundart\n",
    "#\n",
    "#  Try the following values of lambda (0, 1, 10, 100).\n",
    "#\n",
    "#  How does the decision boundary change when you vary lambda? How does\n",
    "#  the training set accuracy vary?\n",
    "\n",
    "# Initialize fitting parameters\n",
    "initial_theta = np.zeros(X.shape[1]);\n",
    "\n",
    "# Set regularization parameter lambda to 1 (you should vary this)\n",
    "Lambda = 1;"
   ]
  },
  {
   "cell_type": "code",
   "execution_count": 895,
   "metadata": {},
   "outputs": [
    {
     "name": "stdout",
     "output_type": "stream",
     "text": [
      "Optimization terminated successfully.\n",
      "         Current function value: 0.529003\n",
      "         Iterations: 47\n",
      "         Function evaluations: 1440\n",
      "         Gradient evaluations: 48\n"
     ]
    }
   ],
   "source": [
    "theta_opt = optimize.fmin_bfgs(costFunctionReg, x0=theta, args=(X, y, Lambda))"
   ]
  },
  {
   "cell_type": "code",
   "execution_count": 896,
   "metadata": {},
   "outputs": [
    {
     "data": {
      "text/plain": [
       "array([ 1.27268727,  0.62557013,  1.18096661, -2.01919817, -0.91761478,\n",
       "       -1.4319417 ,  0.1237591 , -0.36513088, -0.35703381, -0.1748583 ,\n",
       "       -1.45843767, -0.05129663, -0.61603925, -0.27464139, -1.19282548,\n",
       "       -0.24270339, -0.20570004, -0.04499744, -0.27782693, -0.2952583 ,\n",
       "       -0.45613318, -1.04377852,  0.02762803, -0.29265628,  0.01543363,\n",
       "       -0.32759352, -0.14389192, -0.92460126])"
      ]
     },
     "execution_count": 896,
     "metadata": {},
     "output_type": "execute_result"
    }
   ],
   "source": [
    "theta_opt"
   ]
  },
  {
   "cell_type": "markdown",
   "metadata": {},
   "source": [
    "### 2.4 Plotting the decision boundary"
   ]
  },
  {
   "cell_type": "markdown",
   "metadata": {},
   "source": [
    "##### Lambda = 1"
   ]
  },
  {
   "cell_type": "code",
   "execution_count": 897,
   "metadata": {},
   "outputs": [
    {
     "data": {
      "image/png": "[encoded data removed]",
      "text/plain": [
       "<matplotlib.figure.Figure at 0x1a27d15278>"
      ]
     },
     "metadata": {},
     "output_type": "display_data"
    }
   ],
   "source": [
    "plt.scatter(X[y == 0, 1], X[y == 0, 2], label = 'y=0', color='y')\n",
    "plt.scatter(X[y == 1, 1], X[y == 1, 2], label = 'y=1', color='k')\n",
    "plt.xlabel('Microchip Test 1')\n",
    "plt.ylabel('Microchip Test 2')\n",
    "\n",
    "if X.shape[1] <= 3:\n",
    "    plot_x = [min(X[:, 1])-2, max(X[:, 1])+2]\n",
    "    plot_y = (-1./theta_opt[2])*(theta_opt[1]*plot_x + theta_opt[0]);\n",
    "    \n",
    "    plt.plot(plot_x, plot_y)\n",
    "    \n",
    "else:\n",
    "    u = np.linspace(-1, 1.5, 50);\n",
    "    v = np.linspace(-1, 1.5, 50);\n",
    "\n",
    "    z = np.zeros((len(u), len(v)));\n",
    "    # Evaluate z = theta*x over the grid\n",
    "    for i in range(len(u)):\n",
    "        for j in range(len(v)):\n",
    "            z[i,j] = mapFeature(np.array([u[i]]), np.array([v[j]])).dot(theta_opt);\n",
    "    z = np.transpose(z); # important to transpose z before calling contour\n",
    "\n",
    "    # Plot z = 0\n",
    "    # Notice you need to specify the level 0\n",
    "    plt.contour(u, v, z, levels=[0])\n",
    "\n",
    "    # Legend, specific for the exercise\n",
    "    plt.legend()"
   ]
  },
  {
   "cell_type": "code",
   "execution_count": 903,
   "metadata": {},
   "outputs": [
    {
     "name": "stdout",
     "output_type": "stream",
     "text": [
      "Accuracy = 0.8305084745762712\n"
     ]
    }
   ],
   "source": [
    "print('Accuracy = {}'.format(np.mean(np.double(predict(theta_opt, X) == y))))"
   ]
  },
  {
   "cell_type": "markdown",
   "metadata": {},
   "source": [
    "##### Lambda = 0 (Overfitting):"
   ]
  },
  {
   "cell_type": "code",
   "execution_count": 841,
   "metadata": {},
   "outputs": [
    {
     "data": {
      "image/png": "[encoded data removed]",
      "text/plain": [
       "<matplotlib.figure.Figure at 0x1a27610390>"
      ]
     },
     "metadata": {},
     "output_type": "display_data"
    }
   ],
   "source": [
    "plt.scatter(X[y == 0, 1], X[y == 0, 2], label = 'y=0', color='y')\n",
    "plt.scatter(X[y == 1, 1], X[y == 1, 2], label = 'y=1', color='k')\n",
    "plt.xlabel('Microchip Test 1')\n",
    "plt.ylabel('Microchip Test 2')\n",
    "\n",
    "if X.shape[1] <= 3:\n",
    "    plot_x = [min(X[:, 1])-2, max(X[:, 1])+2]\n",
    "    plot_y = (-1./theta_opt[2])*(theta_opt[1]*plot_x + theta_opt[0]);\n",
    "    \n",
    "    plt.plot(plot_x, plot_y)\n",
    "    \n",
    "else:\n",
    "    u = np.linspace(-1, 1.5, 50);\n",
    "    v = np.linspace(-1, 1.5, 50);\n",
    "\n",
    "    z = np.zeros((len(u), len(v)));\n",
    "    # Evaluate z = theta*x over the grid\n",
    "    for i in range(len(u)):\n",
    "        for j in range(len(v)):\n",
    "            z[i,j] = mapFeature(np.array([u[i]]), np.array([v[j]])).dot(theta_opt);\n",
    "    z = np.transpose(z); # important to transpose z before calling contour\n",
    "\n",
    "    # Plot z = 0\n",
    "    # Notice you need to specify the level 0\n",
    "    plt.contour(u, v, z, levels=[0])\n",
    "\n",
    "    # Legend, specific for the exercise\n",
    "    plt.legend()"
   ]
  },
  {
   "cell_type": "markdown",
   "metadata": {},
   "source": [
    "##### Lambda = 100 (Underfitting)"
   ]
  },
  {
   "cell_type": "code",
   "execution_count": 845,
   "metadata": {},
   "outputs": [
    {
     "data": {
      "image/png": "[encoded data removed]",
      "text/plain": [
       "<matplotlib.figure.Figure at 0x1a28410860>"
      ]
     },
     "metadata": {},
     "output_type": "display_data"
    }
   ],
   "source": [
    "plt.scatter(X[y == 0, 1], X[y == 0, 2], label = 'y=0', color='y')\n",
    "plt.scatter(X[y == 1, 1], X[y == 1, 2], label = 'y=1', color='k')\n",
    "plt.xlabel('Microchip Test 1')\n",
    "plt.ylabel('Microchip Test 2')\n",
    "\n",
    "if X.shape[1] <= 3:\n",
    "    plot_x = [min(X[:, 1])-2, max(X[:, 1])+2]\n",
    "    plot_y = (-1./theta_opt[2])*(theta_opt[1]*plot_x + theta_opt[0]);\n",
    "    \n",
    "    plt.plot(plot_x, plot_y)\n",
    "    \n",
    "else:\n",
    "    u = np.linspace(-1, 1.5, 50);\n",
    "    v = np.linspace(-1, 1.5, 50);\n",
    "\n",
    "    z = np.zeros((len(u), len(v)));\n",
    "    # Evaluate z = theta*x over the grid\n",
    "    for i in range(len(u)):\n",
    "        for j in range(len(v)):\n",
    "            z[i,j] = mapFeature(np.array([u[i]]), np.array([v[j]])).dot(theta_opt);\n",
    "    z = np.transpose(z); # important to transpose z before calling contour\n",
    "\n",
    "    # Plot z = 0\n",
    "    # Notice you need to specify the level 0\n",
    "    plt.contour(u, v, z, levels=[0])\n",
    "\n",
    "    # Legend, specific for the exercise\n",
    "    plt.legend()"
   ]
  },
  {
   "cell_type": "markdown",
   "metadata": {},
   "source": [
    "### Using SKLearn"
   ]
  },
  {
   "cell_type": "code",
   "execution_count": 868,
   "metadata": {},
   "outputs": [],
   "source": [
    "from sklearn.linear_model import LogisticRegression"
   ]
  },
  {
   "cell_type": "code",
   "execution_count": 889,
   "metadata": {},
   "outputs": [],
   "source": [
    "clf = LogisticRegression(C=1)"
   ]
  },
  {
   "cell_type": "code",
   "execution_count": 890,
   "metadata": {},
   "outputs": [
    {
     "data": {
      "text/plain": [
       "LogisticRegression(C=1, class_weight=None, dual=False, fit_intercept=True,\n",
       "          intercept_scaling=1, max_iter=100, multi_class='ovr', n_jobs=1,\n",
       "          penalty='l2', random_state=None, solver='liblinear', tol=0.0001,\n",
       "          verbose=0, warm_start=False)"
      ]
     },
     "execution_count": 890,
     "metadata": {},
     "output_type": "execute_result"
    }
   ],
   "source": [
    "clf.fit(X, y)"
   ]
  },
  {
   "cell_type": "code",
   "execution_count": 891,
   "metadata": {},
   "outputs": [
    {
     "data": {
      "text/plain": [
       "array([ 0.60181257,  0.61262932,  1.17369724, -1.94159987, -0.91652206,\n",
       "       -1.34600069,  0.12538359, -0.3671774 , -0.35087379, -0.17439841,\n",
       "       -1.43997026, -0.04973447, -0.6106624 , -0.27187562, -1.17708203,\n",
       "       -0.24264323, -0.2065488 , -0.04393776, -0.27907087, -0.2909125 ,\n",
       "       -0.46305003, -1.03941697,  0.02853522, -0.29251337,  0.01648987,\n",
       "       -0.32818075, -0.14074991, -0.92845357])"
      ]
     },
     "execution_count": 891,
     "metadata": {},
     "output_type": "execute_result"
    }
   ],
   "source": [
    "clf.coef_[0]"
   ]
  },
  {
   "cell_type": "markdown",
   "metadata": {},
   "source": [
    "##### L2 Penalty (Ridge Regression)"
   ]
  },
  {
   "cell_type": "code",
   "execution_count": 867,
   "metadata": {},
   "outputs": [
    {
     "data": {
      "text/plain": [
       "<matplotlib.legend.Legend at 0x1a28532908>"
      ]
     },
     "execution_count": 867,
     "metadata": {},
     "output_type": "execute_result"
    },
    {
     "data": {
      "image/png": "[encoded data removed]",
      "text/plain": [
       "<matplotlib.figure.Figure at 0x1a288b82e8>"
      ]
     },
     "metadata": {},
     "output_type": "display_data"
    }
   ],
   "source": [
    "plt.scatter(X[y == 0, 1], X[y == 0, 2], label = 'y=0', color='y')\n",
    "plt.scatter(X[y == 1, 1], X[y == 1, 2], label = 'y=1', color='k')\n",
    "plt.xlabel('Microchip Test 1')\n",
    "plt.ylabel('Microchip Test 2')\n",
    "\n",
    "u = np.linspace(-1, 1.5, 50);\n",
    "v = np.linspace(-1, 1.5, 50);\n",
    "\n",
    "z = np.zeros((len(u), len(v)));\n",
    "# Evaluate z = theta*x over the grid\n",
    "for i in range(len(u)):\n",
    "    for j in range(len(v)):\n",
    "        z[i,j] = mapFeature(np.array([u[i]]), np.array([v[j]])).dot(clf.coef_[0]);\n",
    "z = np.transpose(z); # important to transpose z before calling contour\n",
    "\n",
    "# Plot z = 0\n",
    "# Notice you need to specify the level 0\n",
    "plt.contour(u, v, z, levels=[0])\n",
    "\n",
    "# Legend, specific for the exercise\n",
    "plt.legend()"
   ]
  },
  {
   "cell_type": "markdown",
   "metadata": {},
   "source": [
    "##### L1 Penalty (LASSO)"
   ]
  },
  {
   "cell_type": "code",
   "execution_count": 874,
   "metadata": {},
   "outputs": [
    {
     "data": {
      "text/plain": [
       "<matplotlib.legend.Legend at 0x1a27e9af28>"
      ]
     },
     "execution_count": 874,
     "metadata": {},
     "output_type": "execute_result"
    },
    {
     "data": {
      "image/png": "[encoded data removed]",
      "text/plain": [
       "<matplotlib.figure.Figure at 0x1a27dfaa20>"
      ]
     },
     "metadata": {},
     "output_type": "display_data"
    }
   ],
   "source": [
    "plt.scatter(X[y == 0, 1], X[y == 0, 2], label = 'y=0', color='y')\n",
    "plt.scatter(X[y == 1, 1], X[y == 1, 2], label = 'y=1', color='k')\n",
    "plt.xlabel('Microchip Test 1')\n",
    "plt.ylabel('Microchip Test 2')\n",
    "\n",
    "u = np.linspace(-1, 1.5, 50);\n",
    "v = np.linspace(-1, 1.5, 50);\n",
    "\n",
    "z = np.zeros((len(u), len(v)));\n",
    "# Evaluate z = theta*x over the grid\n",
    "for i in range(len(u)):\n",
    "    for j in range(len(v)):\n",
    "        z[i,j] = mapFeature(np.array([u[i]]), np.array([v[j]])).dot(clf.coef_[0]);\n",
    "z = np.transpose(z); # important to transpose z before calling contour\n",
    "\n",
    "# Plot z = 0\n",
    "# Notice you need to specify the level 0\n",
    "plt.contour(u, v, z, levels=[0])\n",
    "\n",
    "# Legend, specific for the exercise\n",
    "plt.legend()"
   ]
  },
  {
   "cell_type": "markdown",
   "metadata": {},
   "source": [
    "#### Testing different values of C.\n",
    "\n",
    "C : float, default: 1.0\n",
    "    Inverse of regularization strength; must be a positive float.\n",
    "    Like in support vector machines, smaller values specify stronger\n",
    "    regularization.\n",
    "\n",
    "Inverse of regularization strength so:\n",
    " - large C -> overfitting (low Lambda)\n",
    " - small C -> underfitting (high Lambda)"
   ]
  },
  {
   "cell_type": "code",
   "execution_count": 888,
   "metadata": {},
   "outputs": [
    {
     "data": {
      "text/plain": [
       "<matplotlib.legend.Legend at 0x1a27ad64a8>"
      ]
     },
     "execution_count": 888,
     "metadata": {},
     "output_type": "execute_result"
    },
    {
     "data": {
      "image/png": "[encoded data removed]",
      "text/plain": [
       "<matplotlib.figure.Figure at 0x1a27c08e80>"
      ]
     },
     "metadata": {},
     "output_type": "display_data"
    }
   ],
   "source": [
    "#Here C=10000.\n",
    "plt.scatter(X[y == 0, 1], X[y == 0, 2], label = 'y=0', color='y')\n",
    "plt.scatter(X[y == 1, 1], X[y == 1, 2], label = 'y=1', color='k')\n",
    "plt.xlabel('Microchip Test 1')\n",
    "plt.ylabel('Microchip Test 2')\n",
    "\n",
    "u = np.linspace(-1, 1.5, 50);\n",
    "v = np.linspace(-1, 1.5, 50);\n",
    "\n",
    "z = np.zeros((len(u), len(v)));\n",
    "# Evaluate z = theta*x over the grid\n",
    "for i in range(len(u)):\n",
    "    for j in range(len(v)):\n",
    "        z[i,j] = mapFeature(np.array([u[i]]), np.array([v[j]])).dot(clf.coef_[0]);\n",
    "z = np.transpose(z); # important to transpose z before calling contour\n",
    "\n",
    "# Plot z = 0\n",
    "# Notice you need to specify the level 0\n",
    "plt.contour(u, v, z, levels=[0])\n",
    "\n",
    "# Legend, specific for the exercise\n",
    "plt.legend()"
   ]
  },
  {
   "cell_type": "code",
   "execution_count": null,
   "metadata": {},
   "outputs": [],
   "source": []
  }
 ],
 "metadata": {
  "kernelspec": {
   "display_name": "Python 3",
   "language": "python",
   "name": "python3"
  },
  "language_info": {
   "codemirror_mode": {
    "name": "ipython",
    "version": 3
   },
   "file_extension": ".py",
   "mimetype": "text/x-python",
   "name": "python",
   "nbconvert_exporter": "python",
   "pygments_lexer": "ipython3",
   "version": "3.6.6"
  }
 },
 "nbformat": 4,
 "nbformat_minor": 2
}
