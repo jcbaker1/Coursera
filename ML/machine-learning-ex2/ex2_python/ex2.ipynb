{
 "cells": [
  {
   "cell_type": "code",
   "execution_count": 330,
   "metadata": {},
   "outputs": [],
   "source": [
    "import pandas as pd\n",
    "import numpy as np\n",
    "import matplotlib.pyplot as plt"
   ]
  },
  {
   "cell_type": "markdown",
   "metadata": {},
   "source": [
    "## 1. Logistic Regression\n",
    "### 1.1 Plotting the data"
   ]
  },
  {
   "cell_type": "code",
   "execution_count": 331,
   "metadata": {},
   "outputs": [],
   "source": [
    "data_path = '/Users/Jonathan/Documents/Coursera/ML/machine-learning-ex2/ex2/ex2data1.txt'\n",
    "\n",
    "with open(data_path) as f:\n",
    "    data = [i.split(',') for i in f.read().splitlines()]\n",
    "    data = np.array(data).astype(float)"
   ]
  },
  {
   "cell_type": "code",
   "execution_count": 332,
   "metadata": {},
   "outputs": [],
   "source": [
    "df_data = pd.DataFrame(data, columns = ['E1', 'E2', 'Label'])\n",
    "\n",
    "X = data[:, [0,1]]\n",
    "y = data[:, 2]\n",
    "# m = X.shape[0]\n",
    "# n = X.shape[1]\n",
    "m, n = X.shape"
   ]
  },
  {
   "cell_type": "code",
   "execution_count": 333,
   "metadata": {},
   "outputs": [
    {
     "data": {
      "text/plain": [
       "Text(0,0.5,'Exam 2 Score')"
      ]
     },
     "execution_count": 333,
     "metadata": {},
     "output_type": "execute_result"
    },
    {
     "data": {
      "image/png": "[encoded data removed]",
      "text/plain": [
       "<matplotlib.figure.Figure at 0x1a1f6a8320>"
      ]
     },
     "metadata": {},
     "output_type": "display_data"
    }
   ],
   "source": [
    "plt.scatter(df_data.E1[df_data.Label == 0], df_data.E2[df_data.Label == 0], label='Not Admitted')\n",
    "plt.scatter(df_data.E1[df_data.Label == 1], df_data.E2[df_data.Label == 1], label='Admitted')\n",
    "    \n",
    "plt.legend()\n",
    "plt.xlabel('Exam 1 Score')\n",
    "plt.ylabel('Exam 2 Score')"
   ]
  },
  {
   "cell_type": "markdown",
   "metadata": {},
   "source": [
    "## 1.2 Implementation\n",
    "### 1.2.1 Warmup exercise: Sigmoid Function"
   ]
  },
  {
   "cell_type": "code",
   "execution_count": 334,
   "metadata": {},
   "outputs": [],
   "source": [
    "def sigmoid(X):\n",
    "    \n",
    "    return 1 / (1 + np.exp(-X))"
   ]
  },
  {
   "cell_type": "code",
   "execution_count": 335,
   "metadata": {},
   "outputs": [
    {
     "data": {
      "text/plain": [
       "[<matplotlib.lines.Line2D at 0x1a1f7c99e8>]"
      ]
     },
     "execution_count": 335,
     "metadata": {},
     "output_type": "execute_result"
    },
    {
     "data": {
      "image/png": "[encoded data removed]",
      "text/plain": [
       "<matplotlib.figure.Figure at 0x1a1f8df4e0>"
      ]
     },
     "metadata": {},
     "output_type": "display_data"
    }
   ],
   "source": [
    "# Test vector input\n",
    "plt.plot(np.linspace(-10, 10, 200), sigmoid(np.linspace(-10, 10, 200)))"
   ]
  },
  {
   "cell_type": "markdown",
   "metadata": {},
   "source": [
    "### 1.2.2 Cost Function & Gradient"
   ]
  },
  {
   "cell_type": "code",
   "execution_count": 349,
   "metadata": {},
   "outputs": [],
   "source": [
    "def costFunction(theta, X, y, grad=False):\n",
    "    \"\"\"\n",
    "    Compute cost and gradient for logistic regression\n",
    "    J = costFunction(theta, X, y) computes the cost of using theta as the\n",
    "    parameter for logistic regression and the gradient of the cost\n",
    "    w.r.t. to the parameters.\n",
    "    \"\"\"\n",
    "    \n",
    "    m = len(y)\n",
    "    y_hat = sigmoid(np.dot(X, theta))\n",
    "    \n",
    "    J = (np.sum((-y * np.log(y_hat)) - ((1-y) * np.log(1-y_hat)))) / m\n",
    "    #J = ((np.dot(np.transpose(-y), np.log(y_hat))) - np.dot(np.transpose(1-y), np.log(1-y_hat))) / m\n",
    "        \n",
    "    if grad == True:\n",
    "        grad = np.dot(np.transpose(X), (y_hat - y)) / m\n",
    "        \n",
    "        return J, grad\n",
    "    \n",
    "    else:\n",
    "        return J\n",
    "    \n",
    "    \n",
    "def Gradient(theta, X, y):\n",
    "    \n",
    "    m = len(y)\n",
    "    y_hat = sigmoid(np.dot(X, theta))    \n",
    "    \n",
    "    grad = np.dot(np.transpose(X), (y_hat - y)) / m\n",
    "    \n",
    "    return grad"
   ]
  },
  {
   "cell_type": "code",
   "execution_count": 337,
   "metadata": {},
   "outputs": [],
   "source": [
    "X = np.column_stack([np.ones(m), X])"
   ]
  },
  {
   "cell_type": "code",
   "execution_count": 338,
   "metadata": {},
   "outputs": [
    {
     "name": "stdout",
     "output_type": "stream",
     "text": [
      "[0. 0. 0.]\n"
     ]
    }
   ],
   "source": [
    "theta = np.zeros(n+1)\n",
    "print(theta)"
   ]
  },
  {
   "cell_type": "code",
   "execution_count": 339,
   "metadata": {},
   "outputs": [
    {
     "name": "stdout",
     "output_type": "stream",
     "text": [
      "Cost at initial theta (zeros): 0.693147\n",
      "Expected cost (approx): 0.693\n",
      "\n",
      "Gradient at initial theta (zeros): [-0.1, -12.009216589291151, -11.262842205513593]\n",
      "Expected gradients (approx): [-0.1000, -12.0092, -11.2628]\n"
     ]
    }
   ],
   "source": [
    "# Compute and display initial cost and gradient\n",
    "# Expected cost (approx): 0.693\n",
    "# Expected gratidents (approx): [-0.1000, -12.0092, -11.2628]\n",
    "cost, grad = costFunction(theta, X, y, True)\n",
    "\n",
    "print('Cost at initial theta (zeros): %f' % cost);\n",
    "print('Expected cost (approx): 0.693\\n');\n",
    "print('Gradient at initial theta (zeros): %s' % list(grad));\n",
    "print('Expected gradients (approx): [-0.1000, -12.0092, -11.2628]');"
   ]
  },
  {
   "cell_type": "code",
   "execution_count": 340,
   "metadata": {},
   "outputs": [
    {
     "name": "stdout",
     "output_type": "stream",
     "text": [
      "\n",
      "Cost at test theta: 0.218330\n",
      "Expected cost (approx): 0.218\n",
      "\n",
      "Gradient at test theta: [0.04290299 2.56623412 2.64679737]\n",
      "Expected gradients (approx): [0.043, 2.566, 2.647]\n"
     ]
    }
   ],
   "source": [
    "# More tests:\n",
    "test_theta = np.array([-24, 0.2, 0.2])\n",
    "cost, grad = costFunction(test_theta, X, y, True);\n",
    "\n",
    "print('\\nCost at test theta: %f' % cost);\n",
    "print('Expected cost (approx): 0.218\\n');\n",
    "print('Gradient at test theta: %s' % str(grad));\n",
    "print('Expected gradients (approx): [0.043, 2.566, 2.647]');\n"
   ]
  },
  {
   "cell_type": "markdown",
   "metadata": {},
   "source": [
    "### 1.2.3 Learning parameters using scipy.optimize\n",
    "(fminunc for Matlab/Octave)"
   ]
  },
  {
   "cell_type": "code",
   "execution_count": 341,
   "metadata": {},
   "outputs": [],
   "source": [
    "from scipy import optimize"
   ]
  },
  {
   "cell_type": "code",
   "execution_count": 342,
   "metadata": {},
   "outputs": [
    {
     "name": "stdout",
     "output_type": "stream",
     "text": [
      "Optimization terminated successfully.\n",
      "         Current function value: 0.203498\n",
      "         Iterations: 157\n",
      "         Function evaluations: 287\n"
     ]
    }
   ],
   "source": [
    "theta_opt = optimize.fmin(costFunction, x0=theta, args=(X, y), disp=1)"
   ]
  },
  {
   "cell_type": "code",
   "execution_count": 343,
   "metadata": {},
   "outputs": [
    {
     "data": {
      "text/plain": [
       "array([-25.16130062,   0.20623142,   0.20147143])"
      ]
     },
     "execution_count": 343,
     "metadata": {},
     "output_type": "execute_result"
    }
   ],
   "source": [
    "theta_opt"
   ]
  },
  {
   "cell_type": "markdown",
   "metadata": {},
   "source": [
    "### 1.2.4 Evaluating Logistic Regression"
   ]
  },
  {
   "cell_type": "code",
   "execution_count": 344,
   "metadata": {},
   "outputs": [
    {
     "data": {
      "text/plain": [
       "0.7762915904112411"
      ]
     },
     "execution_count": 344,
     "metadata": {},
     "output_type": "execute_result"
    }
   ],
   "source": [
    "x_test = np.array([1, 45, 85])\n",
    "sigmoid(theta_opt.dot(x_test))"
   ]
  },
  {
   "cell_type": "code",
   "execution_count": 348,
   "metadata": {},
   "outputs": [
    {
     "data": {
      "text/plain": [
       "Text(0,0.5,'Exam 2 Score')"
      ]
     },
     "execution_count": 348,
     "metadata": {},
     "output_type": "execute_result"
    },
    {
     "data": {
      "image/png": "[encoded data removed]",
      "text/plain": [
       "<matplotlib.figure.Figure at 0x1a1fa9a3c8>"
      ]
     },
     "metadata": {},
     "output_type": "display_data"
    }
   ],
   "source": [
    "plt.scatter(df_data.E1[df_data.Label == 0], df_data.E2[df_data.Label == 0], label='Not Admitted')\n",
    "plt.scatter(df_data.E1[df_data.Label == 1], df_data.E2[df_data.Label == 1], label='Admitted')\n",
    "plt.plot( X[:, 1], -(theta_opt[0] + theta_opt[1]*X[:, 1])/theta_opt[2], label = 'Decision Boundary', color='r')\n",
    "\n",
    "plt.legend()\n",
    "plt.xlabel('Exam 1 Score')\n",
    "plt.ylabel('Exam 2 Score')"
   ]
  },
  {
   "cell_type": "code",
   "execution_count": 291,
   "metadata": {},
   "outputs": [],
   "source": [
    "def predict(theta, X):\n",
    "    \"\"\"\n",
    "    Predict whether the label is 0 or 1 using learned logistic \n",
    "    regression parameters theta\n",
    "    p = PREDICT(theta, X) computes the predictions for X using a \n",
    "    threshold at 0.5 (i.e., if sigmoid(theta'*x) >= 0.5, predict 1)\n",
    "    \"\"\"\n",
    "\n",
    "    m = X.shape[0]; # Number of training examples    \n",
    "    \n",
    "    y_hat =  sigmoid(X.dot(theta))\n",
    "    \n",
    "    p = y_hat\n",
    "    p[p < 0.5] = 0\n",
    "    p[p >= 0.5] = 1\n",
    "    \n",
    "    return p"
   ]
  },
  {
   "cell_type": "code",
   "execution_count": 292,
   "metadata": {},
   "outputs": [
    {
     "data": {
      "text/plain": [
       "array([0., 0., 0., 1., 1., 0., 1., 0., 1., 1., 1., 0., 1., 1., 0., 1., 0.,\n",
       "       0., 1., 1., 0., 1., 0., 0., 1., 1., 1., 1., 0., 0., 1., 1., 0., 0.,\n",
       "       0., 0., 1., 1., 0., 0., 1., 0., 1., 1., 0., 0., 1., 1., 1., 1., 1.,\n",
       "       1., 1., 0., 0., 0., 1., 1., 1., 1., 1., 0., 0., 0., 0., 0., 1., 0.,\n",
       "       1., 1., 0., 1., 1., 1., 1., 1., 1., 1., 0., 1., 1., 1., 1., 0., 1.,\n",
       "       1., 0., 1., 1., 0., 1., 1., 0., 1., 1., 1., 1., 1., 0., 1.])"
      ]
     },
     "execution_count": 292,
     "metadata": {},
     "output_type": "execute_result"
    }
   ],
   "source": [
    "predict(theta_opt, X)"
   ]
  },
  {
   "cell_type": "code",
   "execution_count": 293,
   "metadata": {},
   "outputs": [
    {
     "name": "stdout",
     "output_type": "stream",
     "text": [
      "For a student with scores 45 and 85, we predict an admission probability of 0.7762915904112411\n",
      "Expected value: 0.775 +/- 0.002\n",
      "\n",
      "Train Accuracy: 89.000000\n",
      "Expected accuracy (approx): 89.0\n"
     ]
    }
   ],
   "source": [
    "prob = sigmoid(np.array([1, 45, 85]).dot(theta_opt));\n",
    "print('For a student with scores 45 and 85, we predict an admission probability of %s' % prob);\n",
    "print('Expected value: 0.775 +/- 0.002\\n');\n",
    "\n",
    "# Compute accuracy on our training set\n",
    "p = predict(theta_opt, X);\n",
    "\n",
    "print('Train Accuracy: %f' % (np.mean(np.double(p == y)) * 100));\n",
    "print('Expected accuracy (approx): 89.0');\n"
   ]
  },
  {
   "cell_type": "markdown",
   "metadata": {},
   "source": [
    "#### Playing around to get a better fit!\n",
    "Let's try a quadratic"
   ]
  },
  {
   "cell_type": "code",
   "execution_count": 479,
   "metadata": {},
   "outputs": [
    {
     "name": "stdout",
     "output_type": "stream",
     "text": [
      "100 2\n"
     ]
    }
   ],
   "source": [
    "df_data = pd.DataFrame(data, columns = ['E1', 'E2', 'Label'])\n",
    "\n",
    "X = data[:, [0,1]]\n",
    "y = data[:, 2]\n",
    "# m = X.shape[0]\n",
    "# n = X.shape[1]\n",
    "m, n = X.shape; print(m, n)"
   ]
  },
  {
   "cell_type": "code",
   "execution_count": 495,
   "metadata": {},
   "outputs": [
    {
     "name": "stdout",
     "output_type": "stream",
     "text": [
      "100 14\n"
     ]
    }
   ],
   "source": [
    "# X = [1, x_1, x_2, x_1**2, x_2**2, x_1 * x_2]\n",
    "X = np.column_stack([np.ones(m), X, X**2, X[:, 0]*X[:, 1]])\n",
    "m, n = X.shape; print(m, n)\n",
    "theta = np.zeros(n)"
   ]
  },
  {
   "cell_type": "code",
   "execution_count": 481,
   "metadata": {},
   "outputs": [
    {
     "name": "stdout",
     "output_type": "stream",
     "text": [
      "Optimization terminated successfully.\n",
      "         Current function value: 0.088924\n",
      "         Iterations: 306\n",
      "         Function evaluations: 491\n"
     ]
    },
    {
     "name": "stderr",
     "output_type": "stream",
     "text": [
      "/Users/Jonathan/anaconda3/lib/python3.6/site-packages/ipykernel_launcher.py:12: RuntimeWarning: divide by zero encountered in log\n",
      "  if sys.path[0] == '':\n",
      "/Users/Jonathan/anaconda3/lib/python3.6/site-packages/ipykernel_launcher.py:12: RuntimeWarning: invalid value encountered in multiply\n",
      "  if sys.path[0] == '':\n"
     ]
    }
   ],
   "source": [
    "theta_opt = optimize.fmin(costFunction, x0=theta, args=(X, y), disp=1)"
   ]
  },
  {
   "cell_type": "code",
   "execution_count": 482,
   "metadata": {},
   "outputs": [
    {
     "data": {
      "text/plain": [
       "array([ 0.0211857 , -0.5234961 , -0.13598919,  0.0020087 , -0.00088996,\n",
       "        0.01028182])"
      ]
     },
     "execution_count": 482,
     "metadata": {},
     "output_type": "execute_result"
    }
   ],
   "source": [
    "theta_opt"
   ]
  },
  {
   "cell_type": "markdown",
   "metadata": {},
   "source": [
    "Solving for x2 (using quadratic formula) to get decision boundary:"
   ]
  },
  {
   "cell_type": "code",
   "execution_count": 483,
   "metadata": {},
   "outputs": [
    {
     "name": "stderr",
     "output_type": "stream",
     "text": [
      "/Users/Jonathan/anaconda3/lib/python3.6/site-packages/ipykernel_launcher.py:5: RuntimeWarning: invalid value encountered in sqrt\n",
      "  \"\"\"\n"
     ]
    }
   ],
   "source": [
    "a = theta_opt[4]\n",
    "b = theta_opt[2] + theta_opt[5]*X[:, 1]\n",
    "c = theta_opt[0] + theta_opt[1]*X[:, 1] + theta_opt[3]* X[:, 3]\n",
    "\n",
    "x_2_boundary = (-b + np.sqrt((b**2) - (4*a*c))) / (2*a)"
   ]
  },
  {
   "cell_type": "code",
   "execution_count": 485,
   "metadata": {},
   "outputs": [
    {
     "data": {
      "text/plain": [
       "Text(0,0.5,'Exam 2 Score')"
      ]
     },
     "execution_count": 485,
     "metadata": {},
     "output_type": "execute_result"
    },
    {
     "data": {
      "image/png": "[encoded data removed]",
      "text/plain": [
       "<matplotlib.figure.Figure at 0x1a20283ef0>"
      ]
     },
     "metadata": {},
     "output_type": "display_data"
    }
   ],
   "source": [
    "plt.scatter(df_data.E1[df_data.Label == 0], df_data.E2[df_data.Label == 0], label='Not Admitted')\n",
    "plt.scatter(df_data.E1[df_data.Label == 1], df_data.E2[df_data.Label == 1], label='Admitted')\n",
    "plt.plot( X[:, 1]\n",
    "         , x_2_boundary\n",
    "         , 'o'\n",
    "         , label = 'Decision Boundary', color='r')\n",
    "\n",
    "plt.legend()\n",
    "plt.xlabel('Exam 1 Score')\n",
    "plt.ylabel('Exam 2 Score')"
   ]
  },
  {
   "cell_type": "markdown",
   "metadata": {},
   "source": [
    "Looks reasonable!"
   ]
  },
  {
   "cell_type": "code",
   "execution_count": 486,
   "metadata": {},
   "outputs": [
    {
     "data": {
      "text/plain": [
       "array([0., 0., 0., 1., 1., 0., 1., 0., 1., 1., 0., 0., 1., 1., 0., 1., 1.,\n",
       "       0., 1., 1., 0., 1., 0., 0., 1., 1., 1., 0., 0., 0., 1., 1., 0., 1.,\n",
       "       0., 0., 0., 1., 0., 0., 1., 0., 1., 0., 0., 0., 1., 1., 1., 1., 1.,\n",
       "       1., 1., 0., 0., 0., 1., 0., 1., 1., 1., 0., 0., 0., 0., 0., 1., 0.,\n",
       "       1., 1., 0., 1., 1., 1., 1., 1., 1., 1., 0., 0., 1., 1., 1., 1., 1.,\n",
       "       1., 0., 1., 1., 0., 1., 1., 0., 1., 1., 1., 1., 1., 1., 1.])"
      ]
     },
     "execution_count": 486,
     "metadata": {},
     "output_type": "execute_result"
    }
   ],
   "source": [
    "predict(theta_opt, X)"
   ]
  },
  {
   "cell_type": "code",
   "execution_count": 494,
   "metadata": {},
   "outputs": [
    {
     "name": "stdout",
     "output_type": "stream",
     "text": [
      "For a student with scores 45 and 85, we predict an admission probability of 0.8665063735699885\n",
      "Train Accuracy: 99.000000 \n",
      "\n"
     ]
    }
   ],
   "source": [
    "prob = sigmoid(np.array([1, 45, 85, 45**2, 85**2, 45*85]).dot(theta_opt));\n",
    "print('For a student with scores 45 and 85, we predict an admission probability of %s' % prob);\n",
    "\n",
    "# Compute accuracy on our training set\n",
    "p = predict(theta_opt, X);\n",
    "\n",
    "print('Train Accuracy: %f \\n' % (np.mean(np.double(p == y)) * 100));"
   ]
  },
  {
   "cell_type": "markdown",
   "metadata": {},
   "source": [
    "Training accuracy is considerably better as expected"
   ]
  },
  {
   "cell_type": "markdown",
   "metadata": {},
   "source": [
    "## 2 Regulatized Logistic Regression\n",
    "### 2.1 Visualizing the data"
   ]
  },
  {
   "cell_type": "code",
   "execution_count": 322,
   "metadata": {},
   "outputs": [
    {
     "name": "stdout",
     "output_type": "stream",
     "text": [
      "118\n"
     ]
    }
   ],
   "source": [
    "data_path = '/Users/Jonathan/Documents/Coursera/ML/machine-learning-ex2/ex2/ex2data2.txt'\n",
    "data = np.loadtxt(data_path, delimiter=',')\n",
    "X = data[:, [0,1]]\n",
    "y = data[:, 2]\n",
    "m = X.shape[0]; print(m)"
   ]
  },
  {
   "cell_type": "code",
   "execution_count": 321,
   "metadata": {},
   "outputs": [
    {
     "data": {
      "text/plain": [
       "Text(0,0.5,'Microchip Test 2')"
      ]
     },
     "execution_count": 321,
     "metadata": {},
     "output_type": "execute_result"
    },
    {
     "data": {
      "image/png": "[encoded data removed]",
      "text/plain": [
       "<matplotlib.figure.Figure at 0x1a1f616470>"
      ]
     },
     "metadata": {},
     "output_type": "display_data"
    }
   ],
   "source": [
    "plt.scatter(X[y == 0, 0], X[y == 0, 1], label = 'y=0', color='y')\n",
    "plt.scatter(X[y == 1, 0], X[y == 1, 1], label = 'y=1', color='k')\n",
    "plt.legend()\n",
    "plt.xlabel('Microchip Test 1')\n",
    "plt.ylabel('Microchip Test 2')"
   ]
  },
  {
   "cell_type": "code",
   "execution_count": 323,
   "metadata": {},
   "outputs": [
    {
     "data": {
      "text/plain": [
       "array([[ 1.00000000e+00,  5.12670000e-02,  6.99560000e-01,\n",
       "         2.62830529e-03,  4.89384194e-01],\n",
       "       [ 1.00000000e+00, -9.27420000e-02,  6.84940000e-01,\n",
       "         8.60107856e-03,  4.69142804e-01],\n",
       "       [ 1.00000000e+00, -2.13710000e-01,  6.92250000e-01,\n",
       "         4.56719641e-02,  4.79210063e-01],\n",
       "       [ 1.00000000e+00, -3.75000000e-01,  5.02190000e-01,\n",
       "         1.40625000e-01,  2.52194796e-01],\n",
       "       [ 1.00000000e+00, -5.13250000e-01,  4.65640000e-01,\n",
       "         2.63425562e-01,  2.16820610e-01],\n",
       "       [ 1.00000000e+00, -5.24770000e-01,  2.09800000e-01,\n",
       "         2.75383553e-01,  4.40160400e-02],\n",
       "       [ 1.00000000e+00, -3.98040000e-01,  3.43570000e-02,\n",
       "         1.58435842e-01,  1.18040345e-03],\n",
       "       [ 1.00000000e+00, -3.05880000e-01, -1.92250000e-01,\n",
       "         9.35625744e-02,  3.69600625e-02],\n",
       "       [ 1.00000000e+00,  1.67050000e-02, -4.04240000e-01,\n",
       "         2.79057025e-04,  1.63409978e-01],\n",
       "       [ 1.00000000e+00,  1.31910000e-01, -5.13890000e-01,\n",
       "         1.74002481e-02,  2.64082932e-01],\n",
       "       [ 1.00000000e+00,  3.85370000e-01, -5.65060000e-01,\n",
       "         1.48510037e-01,  3.19292804e-01],\n",
       "       [ 1.00000000e+00,  5.29380000e-01, -5.21200000e-01,\n",
       "         2.80243184e-01,  2.71649440e-01],\n",
       "       [ 1.00000000e+00,  6.38820000e-01, -2.43420000e-01,\n",
       "         4.08090992e-01,  5.92532964e-02],\n",
       "       [ 1.00000000e+00,  7.36750000e-01, -1.84940000e-01,\n",
       "         5.42800562e-01,  3.42028036e-02],\n",
       "       [ 1.00000000e+00,  5.46660000e-01,  4.87570000e-01,\n",
       "         2.98837156e-01,  2.37724505e-01],\n",
       "       [ 1.00000000e+00,  3.22000000e-01,  5.82600000e-01,\n",
       "         1.03684000e-01,  3.39422760e-01],\n",
       "       [ 1.00000000e+00,  1.66470000e-01,  5.38740000e-01,\n",
       "         2.77122609e-02,  2.90240788e-01],\n",
       "       [ 1.00000000e+00, -4.66590000e-02,  8.16520000e-01,\n",
       "         2.17706228e-03,  6.66704910e-01],\n",
       "       [ 1.00000000e+00, -1.73390000e-01,  6.99560000e-01,\n",
       "         3.00640921e-02,  4.89384194e-01],\n",
       "       [ 1.00000000e+00, -4.78690000e-01,  6.33770000e-01,\n",
       "         2.29144116e-01,  4.01664413e-01],\n",
       "       [ 1.00000000e+00, -6.05410000e-01,  5.97220000e-01,\n",
       "         3.66521268e-01,  3.56671728e-01],\n",
       "       [ 1.00000000e+00, -6.28460000e-01,  3.34060000e-01,\n",
       "         3.94961972e-01,  1.11596084e-01],\n",
       "       [ 1.00000000e+00, -5.93890000e-01,  5.11700000e-03,\n",
       "         3.52705332e-01,  2.61836890e-05],\n",
       "       [ 1.00000000e+00, -4.21080000e-01, -2.72660000e-01,\n",
       "         1.77308366e-01,  7.43434756e-02],\n",
       "       [ 1.00000000e+00, -1.15780000e-01, -3.96930000e-01,\n",
       "         1.34050084e-02,  1.57553425e-01],\n",
       "       [ 1.00000000e+00,  2.01040000e-01, -6.01610000e-01,\n",
       "         4.04170816e-02,  3.61934592e-01],\n",
       "       [ 1.00000000e+00,  4.66010000e-01, -5.35820000e-01,\n",
       "         2.17165320e-01,  2.87103072e-01],\n",
       "       [ 1.00000000e+00,  6.73390000e-01, -5.35820000e-01,\n",
       "         4.53454092e-01,  2.87103072e-01],\n",
       "       [ 1.00000000e+00, -1.38820000e-01,  5.46050000e-01,\n",
       "         1.92709924e-02,  2.98170603e-01],\n",
       "       [ 1.00000000e+00, -2.94350000e-01,  7.79970000e-01,\n",
       "         8.66419225e-02,  6.08353201e-01],\n",
       "       [ 1.00000000e+00, -2.65550000e-01,  9.62720000e-01,\n",
       "         7.05168025e-02,  9.26829798e-01],\n",
       "       [ 1.00000000e+00, -1.61870000e-01,  8.01900000e-01,\n",
       "         2.62018969e-02,  6.43043610e-01],\n",
       "       [ 1.00000000e+00, -1.73390000e-01,  6.48390000e-01,\n",
       "         3.00640921e-02,  4.20409592e-01],\n",
       "       [ 1.00000000e+00, -2.82830000e-01,  4.72950000e-01,\n",
       "         7.99928089e-02,  2.23681702e-01],\n",
       "       [ 1.00000000e+00, -3.63480000e-01,  3.12130000e-01,\n",
       "         1.32117710e-01,  9.74251369e-02],\n",
       "       [ 1.00000000e+00, -3.00120000e-01,  2.70470000e-02,\n",
       "         9.00720144e-02,  7.31540209e-04],\n",
       "       [ 1.00000000e+00, -2.36750000e-01, -2.14180000e-01,\n",
       "         5.60505625e-02,  4.58730724e-02],\n",
       "       [ 1.00000000e+00, -6.39400000e-02, -1.84940000e-01,\n",
       "         4.08832360e-03,  3.42028036e-02],\n",
       "       [ 1.00000000e+00,  6.27880000e-02, -1.63010000e-01,\n",
       "         3.94233294e-03,  2.65722601e-02],\n",
       "       [ 1.00000000e+00,  2.29840000e-01, -4.11550000e-01,\n",
       "         5.28264256e-02,  1.69373403e-01],\n",
       "       [ 1.00000000e+00,  2.93200000e-01, -2.28800000e-01,\n",
       "         8.59662400e-02,  5.23494400e-02],\n",
       "       [ 1.00000000e+00,  4.83290000e-01, -1.84940000e-01,\n",
       "         2.33569224e-01,  3.42028036e-02],\n",
       "       [ 1.00000000e+00,  6.44590000e-01, -1.41080000e-01,\n",
       "         4.15496268e-01,  1.99035664e-02],\n",
       "       [ 1.00000000e+00,  4.60250000e-01,  1.24270000e-02,\n",
       "         2.11830062e-01,  1.54430329e-04],\n",
       "       [ 1.00000000e+00,  6.27300000e-01,  1.58630000e-01,\n",
       "         3.93505290e-01,  2.51634769e-02],\n",
       "       [ 1.00000000e+00,  5.75460000e-01,  2.68270000e-01,\n",
       "         3.31154212e-01,  7.19687929e-02],\n",
       "       [ 1.00000000e+00,  7.25230000e-01,  4.43710000e-01,\n",
       "         5.25958553e-01,  1.96878564e-01],\n",
       "       [ 1.00000000e+00,  2.24080000e-01,  5.24120000e-01,\n",
       "         5.02118464e-02,  2.74701774e-01],\n",
       "       [ 1.00000000e+00,  4.42970000e-01,  6.70320000e-01,\n",
       "         1.96222421e-01,  4.49328902e-01],\n",
       "       [ 1.00000000e+00,  3.22000000e-01,  6.92250000e-01,\n",
       "         1.03684000e-01,  4.79210063e-01],\n",
       "       [ 1.00000000e+00,  1.37670000e-01,  5.75290000e-01,\n",
       "         1.89530289e-02,  3.30958584e-01],\n",
       "       [ 1.00000000e+00, -6.33640000e-03,  3.99850000e-01,\n",
       "         4.01499650e-05,  1.59880022e-01],\n",
       "       [ 1.00000000e+00, -9.27420000e-02,  5.53360000e-01,\n",
       "         8.60107856e-03,  3.06207290e-01],\n",
       "       [ 1.00000000e+00, -2.07950000e-01,  3.55990000e-01,\n",
       "         4.32432025e-02,  1.26728880e-01],\n",
       "       [ 1.00000000e+00, -2.07950000e-01,  1.73250000e-01,\n",
       "         4.32432025e-02,  3.00155625e-02],\n",
       "       [ 1.00000000e+00, -4.38360000e-01,  2.17110000e-01,\n",
       "         1.92159490e-01,  4.71367521e-02],\n",
       "       [ 1.00000000e+00, -2.19470000e-01, -1.68130000e-02,\n",
       "         4.81670809e-02,  2.82676969e-04],\n",
       "       [ 1.00000000e+00, -1.38820000e-01, -2.72660000e-01,\n",
       "         1.92709924e-02,  7.43434756e-02],\n",
       "       [ 1.00000000e+00,  1.83760000e-01,  9.33480000e-01,\n",
       "         3.37677376e-02,  8.71384910e-01],\n",
       "       [ 1.00000000e+00,  2.24080000e-01,  7.79970000e-01,\n",
       "         5.02118464e-02,  6.08353201e-01],\n",
       "       [ 1.00000000e+00,  2.98960000e-01,  6.19150000e-01,\n",
       "         8.93770816e-02,  3.83346722e-01],\n",
       "       [ 1.00000000e+00,  5.06340000e-01,  7.58040000e-01,\n",
       "         2.56380196e-01,  5.74624642e-01],\n",
       "       [ 1.00000000e+00,  6.15780000e-01,  7.28800000e-01,\n",
       "         3.79185008e-01,  5.31149440e-01],\n",
       "       [ 1.00000000e+00,  6.04260000e-01,  5.97220000e-01,\n",
       "         3.65130148e-01,  3.56671728e-01],\n",
       "       [ 1.00000000e+00,  7.65550000e-01,  5.02190000e-01,\n",
       "         5.86066802e-01,  2.52194796e-01],\n",
       "       [ 1.00000000e+00,  9.26840000e-01,  3.63300000e-01,\n",
       "         8.59032386e-01,  1.31986890e-01],\n",
       "       [ 1.00000000e+00,  8.23160000e-01,  2.75580000e-01,\n",
       "         6.77592386e-01,  7.59443364e-02],\n",
       "       [ 1.00000000e+00,  9.61410000e-01,  8.55260000e-02,\n",
       "         9.24309188e-01,  7.31469668e-03],\n",
       "       [ 1.00000000e+00,  9.38360000e-01,  1.24270000e-02,\n",
       "         8.80519490e-01,  1.54430329e-04],\n",
       "       [ 1.00000000e+00,  8.63480000e-01, -8.26020000e-02,\n",
       "         7.45597710e-01,  6.82309040e-03],\n",
       "       [ 1.00000000e+00,  8.98040000e-01, -2.06870000e-01,\n",
       "         8.06475842e-01,  4.27951969e-02],\n",
       "       [ 1.00000000e+00,  8.51960000e-01, -3.67690000e-01,\n",
       "         7.25835842e-01,  1.35195936e-01],\n",
       "       [ 1.00000000e+00,  8.28920000e-01, -5.21200000e-01,\n",
       "         6.87108366e-01,  2.71649440e-01],\n",
       "       [ 1.00000000e+00,  7.94350000e-01, -5.57750000e-01,\n",
       "         6.30991923e-01,  3.11085062e-01],\n",
       "       [ 1.00000000e+00,  5.92740000e-01, -7.40500000e-01,\n",
       "         3.51340708e-01,  5.48340250e-01],\n",
       "       [ 1.00000000e+00,  5.17860000e-01, -5.94300000e-01,\n",
       "         2.68178980e-01,  3.53192490e-01],\n",
       "       [ 1.00000000e+00,  4.66010000e-01, -4.18860000e-01,\n",
       "         2.17165320e-01,  1.75443700e-01],\n",
       "       [ 1.00000000e+00,  3.50810000e-01, -5.79680000e-01,\n",
       "         1.23067656e-01,  3.36028902e-01],\n",
       "       [ 1.00000000e+00,  2.87440000e-01, -7.69740000e-01,\n",
       "         8.26217536e-02,  5.92499668e-01],\n",
       "       [ 1.00000000e+00,  8.58290000e-02, -7.55120000e-01,\n",
       "         7.36661724e-03,  5.70206214e-01],\n",
       "       [ 1.00000000e+00,  1.49190000e-01, -5.79680000e-01,\n",
       "         2.22576561e-02,  3.36028902e-01],\n",
       "       [ 1.00000000e+00, -1.33060000e-01, -4.48100000e-01,\n",
       "         1.77049636e-02,  2.00793610e-01],\n",
       "       [ 1.00000000e+00, -4.09560000e-01, -4.11550000e-01,\n",
       "         1.67739394e-01,  1.69373403e-01],\n",
       "       [ 1.00000000e+00, -3.92280000e-01, -2.58040000e-01,\n",
       "         1.53883598e-01,  6.65846416e-02],\n",
       "       [ 1.00000000e+00, -7.43660000e-01, -2.58040000e-01,\n",
       "         5.53030196e-01,  6.65846416e-02],\n",
       "       [ 1.00000000e+00, -6.97580000e-01,  4.16670000e-02,\n",
       "         4.86617856e-01,  1.73613889e-03],\n",
       "       [ 1.00000000e+00, -7.55180000e-01,  2.90200000e-01,\n",
       "         5.70296832e-01,  8.42160400e-02],\n",
       "       [ 1.00000000e+00, -6.97580000e-01,  6.84940000e-01,\n",
       "         4.86617856e-01,  4.69142804e-01],\n",
       "       [ 1.00000000e+00, -4.03800000e-01,  7.06870000e-01,\n",
       "         1.63054440e-01,  4.99665197e-01],\n",
       "       [ 1.00000000e+00, -3.80760000e-01,  9.18860000e-01,\n",
       "         1.44978178e-01,  8.44303700e-01],\n",
       "       [ 1.00000000e+00, -5.07490000e-01,  9.04240000e-01,\n",
       "         2.57546100e-01,  8.17649978e-01],\n",
       "       [ 1.00000000e+00, -5.47810000e-01,  7.06870000e-01,\n",
       "         3.00095796e-01,  4.99665197e-01],\n",
       "       [ 1.00000000e+00,  1.03110000e-01,  7.79970000e-01,\n",
       "         1.06316721e-02,  6.08353201e-01],\n",
       "       [ 1.00000000e+00,  5.70280000e-02,  9.18860000e-01,\n",
       "         3.25219278e-03,  8.44303700e-01],\n",
       "       [ 1.00000000e+00, -1.04260000e-01,  9.91960000e-01,\n",
       "         1.08701476e-02,  9.83984642e-01],\n",
       "       [ 1.00000000e+00, -8.12210000e-02,  1.10890000e+00,\n",
       "         6.59685084e-03,  1.22965921e+00],\n",
       "       [ 1.00000000e+00,  2.87440000e-01,  1.08700000e+00,\n",
       "         8.26217536e-02,  1.18156900e+00],\n",
       "       [ 1.00000000e+00,  3.96890000e-01,  8.23830000e-01,\n",
       "         1.57521672e-01,  6.78695869e-01],\n",
       "       [ 1.00000000e+00,  6.38820000e-01,  8.89620000e-01,\n",
       "         4.08090992e-01,  7.91423744e-01],\n",
       "       [ 1.00000000e+00,  8.23160000e-01,  6.63010000e-01,\n",
       "         6.77592386e-01,  4.39582260e-01],\n",
       "       [ 1.00000000e+00,  6.73390000e-01,  6.41080000e-01,\n",
       "         4.53454092e-01,  4.10983566e-01],\n",
       "       [ 1.00000000e+00,  1.07090000e+00,  1.00150000e-01,\n",
       "         1.14682681e+00,  1.00300225e-02],\n",
       "       [ 1.00000000e+00, -4.66590000e-02, -5.79680000e-01,\n",
       "         2.17706228e-03,  3.36028902e-01],\n",
       "       [ 1.00000000e+00, -2.36750000e-01, -6.38160000e-01,\n",
       "         5.60505625e-02,  4.07248186e-01],\n",
       "       [ 1.00000000e+00, -1.50350000e-01, -3.67690000e-01,\n",
       "         2.26051225e-02,  1.35195936e-01],\n",
       "       [ 1.00000000e+00, -4.90210000e-01, -3.01900000e-01,\n",
       "         2.40305844e-01,  9.11436100e-02],\n",
       "       [ 1.00000000e+00, -4.67170000e-01, -1.33770000e-01,\n",
       "         2.18247809e-01,  1.78944129e-02],\n",
       "       [ 1.00000000e+00, -2.88590000e-01, -6.06730000e-02,\n",
       "         8.32841881e-02,  3.68121293e-03],\n",
       "       [ 1.00000000e+00, -6.11180000e-01, -6.79820000e-02,\n",
       "         3.73540992e-01,  4.62155232e-03],\n",
       "       [ 1.00000000e+00, -6.63020000e-01, -2.14180000e-01,\n",
       "         4.39595520e-01,  4.58730724e-02],\n",
       "       [ 1.00000000e+00, -5.99650000e-01, -4.18860000e-01,\n",
       "         3.59580123e-01,  1.75443700e-01],\n",
       "       [ 1.00000000e+00, -7.26380000e-01, -8.26020000e-02,\n",
       "         5.27627904e-01,  6.82309040e-03],\n",
       "       [ 1.00000000e+00, -8.30070000e-01,  3.12130000e-01,\n",
       "         6.89016205e-01,  9.74251369e-02],\n",
       "       [ 1.00000000e+00, -7.20620000e-01,  5.38740000e-01,\n",
       "         5.19293184e-01,  2.90240788e-01],\n",
       "       [ 1.00000000e+00, -5.93890000e-01,  4.94880000e-01,\n",
       "         3.52705332e-01,  2.44906214e-01],\n",
       "       [ 1.00000000e+00, -4.84450000e-01,  9.99270000e-01,\n",
       "         2.34691802e-01,  9.98540533e-01],\n",
       "       [ 1.00000000e+00, -6.33640000e-03,  9.99270000e-01,\n",
       "         4.01499650e-05,  9.98540533e-01],\n",
       "       [ 1.00000000e+00,  6.32650000e-01, -3.06120000e-02,\n",
       "         4.00246023e-01,  9.37094544e-04]])"
      ]
     },
     "execution_count": 323,
     "metadata": {},
     "output_type": "execute_result"
    }
   ],
   "source": [
    "np.column_stack([np.ones(m), X, X**2])"
   ]
  },
  {
   "cell_type": "code",
   "execution_count": null,
   "metadata": {},
   "outputs": [],
   "source": []
  }
 ],
 "metadata": {
  "kernelspec": {
   "display_name": "Python 3",
   "language": "python",
   "name": "python3"
  },
  "language_info": {
   "codemirror_mode": {
    "name": "ipython",
    "version": 3
   },
   "file_extension": ".py",
   "mimetype": "text/x-python",
   "name": "python",
   "nbconvert_exporter": "python",
   "pygments_lexer": "ipython3",
   "version": "3.6.4"
  }
 },
 "nbformat": 4,
 "nbformat_minor": 2
}
